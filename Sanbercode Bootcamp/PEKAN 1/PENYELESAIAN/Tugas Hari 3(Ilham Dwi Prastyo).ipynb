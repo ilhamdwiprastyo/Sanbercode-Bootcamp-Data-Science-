{
 "cells": [
  {
   "cell_type": "markdown",
   "metadata": {
    "colab_type": "text",
    "id": "a9HYUdCUsrKl"
   },
   "source": [
    "<h2>Soal 1: Comparison Operator</h2>\n",
    "\n",
    "- Berikan contoh comparison dari tipe data string\n",
    "- Berikan contoh comparison dari tipe data boolean\n",
    "- Berikan contoh comparison dari tipe data integer"
   ]
  },
  {
   "cell_type": "code",
   "execution_count": 2,
   "metadata": {
    "colab": {},
    "colab_type": "code",
    "id": "lXMCHZ71srKp"
   },
   "outputs": [
    {
     "name": "stdout",
     "output_type": "stream",
     "text": [
      "Masukkan data yg diinginkan(1/2/3) : \n",
      "1. 'Contoh'\n",
      "2. True\n",
      "3. 11\n",
      "1\n",
      "tipe data String\n"
     ]
    }
   ],
   "source": [
    "a=int(input(\"Masukkan data yg diinginkan(1/2/3) : \\n1. 'Contoh'\\n2. True\\n3. 11\\n\"))\n",
    "def week(a):\n",
    "        switcher={\n",
    "                1:'Contoh',\n",
    "                2:True,\n",
    "                3:11              \n",
    "             }\n",
    "        return switcher.get(a,\"Invalid day of week\")\n",
    "i=week(a)\n",
    "if i==\"Contoh\" :\n",
    "    print(\"tipe data String\")\n",
    "elif i is True :\n",
    "    print(\"tipe data Boolean\")\n",
    "elif i>=0:\n",
    "    print(\"tipe data Integer\")"
   ]
  },
  {
   "cell_type": "markdown",
   "metadata": {
    "colab_type": "text",
    "id": "IbNoZvVssrK5"
   },
   "source": [
    "<h2>Soal 2: Boolean Comparison</h2>\n",
    "\n",
    "- Berikan contoh gabungan multiple comparison menggunkan Boolean Comparisin 'and'\n",
    "- Berikan contoh gabungan multiple comparison menggunkan Boolean Comparisin 'or'\n",
    "- Berikan contoh gabungan multiple comparison menggunkan Boolean Comparisin 'not'"
   ]
  },
  {
   "cell_type": "code",
   "execution_count": 3,
   "metadata": {
    "colab": {},
    "colab_type": "code",
    "id": "7eU1vPLCsrK7"
   },
   "outputs": [
    {
     "name": "stdout",
     "output_type": "stream",
     "text": [
      "Buah ada dalam list\n",
      "Buah ada dalam list\n",
      "List berisi buah saja\n"
     ]
    }
   ],
   "source": [
    "buah = ['apel','anggur','nanas','semangka','jeruk']\n",
    "#Operator and bernilai True jika kedua parameter yang dibandingkan bernilai True\n",
    "if 'nanas' and 'apel' in buah:\n",
    "    print(\"Buah ada dalam list\")\n",
    "\n",
    "#Operator or bernilai True jika salah satu atau kedua parameter bernilai True\n",
    "if 'lemon' or 'jeruk' in buah:\n",
    "    print(\"Buah ada dalam list\")\n",
    "\n",
    "#Operator not bermakna negasi/bernilai kebalikan\n",
    "if not 'wortel' in buah:\n",
    "    print(\"List berisi buah saja\")"
   ]
  },
  {
   "cell_type": "markdown",
   "metadata": {
    "colab_type": "text",
    "id": "Yp_g_sPMsrLH"
   },
   "source": [
    "<h2>Soal 3: If-Else Statement</h2>\n",
    "\n",
    "Lengkapi kode untuk menghasilkan suatu output yang di harapkan\n",
    "\n",
    "- Bualah sebuah if-else statement yang dimana akan mem-print 'Besar' jika ruangan adalah 'Kamar' dan ukuran lebih dari 12, kemudian mem-print 'Sedang' jika ruangan adalah 'Kamar' dan ukuran lebih dari 6 dan memprint 'Kecil' jika ruangan adalah 'Kamar' dan ukuran ruangan lebih kecil dan sama dengan 6."
   ]
  },
  {
   "cell_type": "code",
   "execution_count": 4,
   "metadata": {
    "colab": {},
    "colab_type": "code",
    "id": "euRiRNupsrLK"
   },
   "outputs": [
    {
     "name": "stdout",
     "output_type": "stream",
     "text": [
      "Masukkan ukuran kamar yang diinginkan : 3\n",
      "Kecil\n"
     ]
    }
   ],
   "source": [
    "ruangan = 'Kamar'\n",
    "i=True\n",
    "\n",
    "while(i):\n",
    "    size = int(input(\"Masukkan ukuran kamar yang diinginkan : \"))\n",
    "    if size<0:\n",
    "        print(\"Ukuran kamar tidak boleh negatif\")\n",
    "    else :\n",
    "        i=False\n",
    "        \n",
    "if ruangan == 'Kamar' and size>12 :\n",
    "    print('Besar')\n",
    "elif ruangan == 'Kamar' and size>6 :\n",
    "    print('Sedang')\n",
    "elif ruangan == 'Kamar' and size<= 6:\n",
    "    print('Kecil')"
   ]
  },
  {
   "cell_type": "markdown",
   "metadata": {
    "colab_type": "text",
    "id": "IcoJXJT1srLW"
   },
   "source": [
    "<h2>Soal 4: Comparison Operator dengan fungsi</h2>\n",
    "\n",
    "Buatlah sebuah fungsi yang menerima satu argument bertipe data numeric dan menghasilkan sebuah return sebagai berikut :\n",
    "- menghasilkan return 'Aneh' jika nilai dari argument tersebut adalah bilangan ganjil\n",
    "- menghasilkan return 'Tidak Aneh' jika nilai dari argument tersebut adalah bilangan genap dan diantara nilai 2 sampai 5 (2 dan 5 termasuk)\n",
    "- menghasilkan return 'Aneh' jika nilai dari argument tersebut adalah bilangan genap dan diantara nilai 6 sampai 20 (6 dan 20 termasuk)\n",
    "- menghasilkan return 'Tidak Aneh' jika nilai dari argument tersebut adalah bilangan genap dan lebih besari dari 20"
   ]
  },
  {
   "cell_type": "code",
   "execution_count": 5,
   "metadata": {
    "colab": {},
    "colab_type": "code",
    "id": "g8F_qfEKsrLZ"
   },
   "outputs": [
    {
     "name": "stdout",
     "output_type": "stream",
     "text": [
      "Masukkan angka : 37\n",
      "Aneh\n"
     ]
    }
   ],
   "source": [
    "angka=int(input(\"Masukkan angka : \"))\n",
    "def Operasi_Aneh(num):\n",
    "    if num%2!=0:\n",
    "        return \"Aneh\"\n",
    "    elif num%2==0 and 2<num<=5:\n",
    "        return \"Tidak Aneh\"\n",
    "    elif num%2==0 and 6<num<=20:\n",
    "        return \"Aneh\"\n",
    "    elif num%2==0 and num>20:\n",
    "        return \"Tidak Aneh\"\n",
    "print(Operasi_Aneh(angka))"
   ]
  },
  {
   "cell_type": "markdown",
   "metadata": {
    "colab_type": "text",
    "id": "gf0D64xOsrLl"
   },
   "source": [
    "<h2>Soal 5: While Loop dan For Loop</h2>\n",
    "\n",
    "- Apa perbedaan while loop dan for loop?\n",
    "- Berikan contoh sederhana cara menggunakan while loop dan for loop"
   ]
  },
  {
   "cell_type": "code",
   "execution_count": 8,
   "metadata": {
    "colab": {},
    "colab_type": "code",
    "id": "l7KIgpjHsrLo"
   },
   "outputs": [
    {
     "name": "stdout",
     "output_type": "stream",
     "text": [
      "Print terus sampek 5x\n",
      "Print terus sampek 5x\n",
      "Print terus sampek 5x\n",
      "Print terus sampek 5x\n",
      "Print terus sampek 5x\n",
      "******************************\n",
      "Print terus sampek 10x\n",
      "Print terus sampek 10x\n",
      "Print terus sampek 10x\n",
      "Print terus sampek 10x\n",
      "Print terus sampek 10x\n",
      "Print terus sampek 10x\n",
      "Print terus sampek 10x\n",
      "Print terus sampek 10x\n",
      "Print terus sampek 10x\n",
      "Print terus sampek 10x\n"
     ]
    }
   ],
   "source": [
    "#Perbedaan yang sangat terlihat dari while loop dan for loop selain pada cara penulisan adalah pada jumlah iterasi \\n\n",
    "#yang dilakukan, misalnya pada while maka jumlah iterasi akan berhenti ketika kondisi while sudah bernilai False,\\n\n",
    "#selagi while bernilai True maka looping akan mengulang secara terus menerus. sedangkan pada for jumlah iterasi \\n\n",
    "#tergantung pada objek yang dilakukan iterasi, ketika objek yang diiterasi terbatas maka jumlah iterasi sesuai jumlah \\n\n",
    "#jumlah item pada objek tersebut\n",
    "\n",
    "#While loop\n",
    "i=0\n",
    "while i<5:\n",
    "    print(\"Print terus sampek 5x\")\n",
    "    i+=1\n",
    "\n",
    "print(30*'*')\n",
    "    \n",
    "#for loop\n",
    "# terdapat banyak fungsi bawaan dari Python untuk melakukan loop pada suatu Object misalnya range(),enumerate(),dll\n",
    "# item sendiri merupakan iterator pada proses looping, sedangkan items adalah objek yang akan di iterasi\n",
    "items=range(10)\n",
    "for item in items:\n",
    "    print(\"Print terus sampek 10x\")"
   ]
  },
  {
   "cell_type": "markdown",
   "metadata": {
    "colab_type": "text",
    "id": "fZQpBGCgsrLz"
   },
   "source": [
    "<h2>Soal 6: While Loop</h2>\n",
    "    \n",
    "Buatlah sebuah code while loop sebagai berikut :\n",
    "- Buatlah suatu fungsi yang merima satu input nilai numeric\n",
    "- Dalam fungsi, Buat sebuah while-loop dengan melakukan comparasi terhadap inputan tersebut, dimana looping/iterasi terus berjalan apabila nilai inputan tidak sama dengan 0\n",
    "- Dalam setiap iterasi update nilai variable inputan itu, jika input lebih dari 0, maka kurangi variabel tersebut sebesar 1, selain itu tambahkan 1\n",
    "- print nilai variable input dalam setiap awal iterasi"
   ]
  },
  {
   "cell_type": "code",
   "execution_count": 9,
   "metadata": {
    "colab": {},
    "colab_type": "code",
    "id": "yOiqjrU2srL1"
   },
   "outputs": [
    {
     "name": "stdout",
     "output_type": "stream",
     "text": [
      "10 \n",
      "\n",
      "9 \n",
      "\n",
      "8 \n",
      "\n",
      "7 \n",
      "\n",
      "6 \n",
      "\n",
      "5 \n",
      "\n",
      "4 \n",
      "\n",
      "3 \n",
      "\n",
      "2 \n",
      "\n",
      "1 \n",
      "\n"
     ]
    }
   ],
   "source": [
    "a = 10\n",
    "\n",
    "def fungsi_while(loop):\n",
    "    while loop>0 :\n",
    "        print(loop,\"\\n\")\n",
    "        loop -= 1\n",
    "\n",
    "fungsi_while(a)"
   ]
  },
  {
   "cell_type": "markdown",
   "metadata": {
    "colab_type": "text",
    "id": "lKzngRrlsrMD"
   },
   "source": [
    "Expected Output:\n",
    "\n",
    "10\n",
    "\n",
    "9\n",
    "\n",
    "8\n",
    "\n",
    "7\n",
    "\n",
    "6\n",
    "\n",
    "5\n",
    "\n",
    "4\n",
    "\n",
    "3\n",
    "\n",
    "2\n",
    "\n",
    "1"
   ]
  },
  {
   "cell_type": "markdown",
   "metadata": {
    "colab_type": "text",
    "id": "IWg3Z_zZsrMG"
   },
   "source": [
    "<h2>Soal 7: For Loop</h2>\n",
    "    \n",
    "Lengkapi kode untuk menghasilkan suatu output yang di harapkan:\n",
    "\n",
    "- Buatlah sebuah loop dengan mengiterasi sebuah objek list kemudian di kalikan dengan index dari list tersebut dan print hasilnya"
   ]
  },
  {
   "cell_type": "code",
   "execution_count": 10,
   "metadata": {
    "colab": {},
    "colab_type": "code",
    "id": "_Jl5i7WKsrMI"
   },
   "outputs": [
    {
     "name": "stdout",
     "output_type": "stream",
     "text": [
      "0 \n",
      "\n",
      "16 \n",
      "\n",
      "22 \n",
      "\n",
      "30 \n",
      "\n",
      "20 \n",
      "\n"
     ]
    }
   ],
   "source": [
    "obj_list= [1, 16, 11, 10, 5]\n",
    "\n",
    "# lengkapi code di bawah\n",
    "for indeks, item in enumerate(obj_list):\n",
    "    print (indeks*item,\"\\n\")\n"
   ]
  },
  {
   "cell_type": "markdown",
   "metadata": {
    "colab_type": "text",
    "id": "OGawROjnsrMU"
   },
   "source": [
    "Expected Output:\n",
    "\n",
    "0\n",
    "\n",
    "16\n",
    "\n",
    "22\n",
    "\n",
    "30\n",
    "\n",
    "20\n"
   ]
  }
 ],
 "metadata": {
  "colab": {
   "name": "Tugas Hari 4.ipynb",
   "provenance": []
  },
  "kernelspec": {
   "display_name": "Python 3",
   "language": "python",
   "name": "python3"
  },
  "language_info": {
   "codemirror_mode": {
    "name": "ipython",
    "version": 3
   },
   "file_extension": ".py",
   "mimetype": "text/x-python",
   "name": "python",
   "nbconvert_exporter": "python",
   "pygments_lexer": "ipython3",
   "version": "3.8.4"
  }
 },
 "nbformat": 4,
 "nbformat_minor": 1
}
