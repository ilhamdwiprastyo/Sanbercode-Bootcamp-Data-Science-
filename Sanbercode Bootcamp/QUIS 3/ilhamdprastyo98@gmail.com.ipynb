{
 "cells": [
  {
   "cell_type": "markdown",
   "metadata": {
    "colab_type": "text",
    "id": "Mk6qjezc8tPu"
   },
   "source": [
    "# Quiz Pekan - 3\n",
    "\n",
    "Dataset-dataset berikut ini menunjukkan persentase fat, protein, dan food yang dikonsumsi dari setiap jenis makanan yang terdaftar. Beberapa bagian akhir dataset juga mencakup persentase obesitas(Obesity), kurang gizi(Undernourished), dan kasus COVID-19 yang Terkonfirmasi(Confirmed)/Kematian(Deaths)/Sembuh(Recovered)/Aktif(Active).\n",
    "\n",
    "(Catatan: Semua data memiliki unit '%' (persen) kecuali Populasi, unit persen tersebut dihitung berdasarkan jumlah populasi).\n",
    "\n",
    "Link Download:\n",
    "\n",
    "[Food_Supply_Quantity_kg_Data.csv](https://drive.google.com/uc?export=download&id=1op0PFMMNglFtw8GVOF6HmomyAvgoY4jm)\n",
    "\n",
    "[Protein_Supply_Quantity_Data.csv](https://drive.google.com/uc?export=download&id=19vFZ1clhjY0vyC8onnlYE63w1QpmB4oj)\n",
    "\n",
    "[Fat_Supply_Quantity_Data.csv](https://drive.google.com/uc?export=download&id=1W1xIj5dGe9aLcg9cG6HVjlpdSqdlbue2)\n",
    "\n",
    "[Supply_Food_Data_Descriptions.csv](https://drive.google.com/uc?export=download&id=1hG4_-D0doXkTU1e7sqZabpRXgCkHt5Hr)"
   ]
  },
  {
   "cell_type": "code",
   "execution_count": 29,
   "metadata": {
    "colab": {},
    "colab_type": "code",
    "id": "NGNbQVKm4vgv"
   },
   "outputs": [],
   "source": [
    "import numpy as np\n",
    "import pandas as pd\n",
    "import matplotlib.pyplot as plt\n",
    "\n",
    "# Import Semua Data\n",
    "df_food = pd.read_csv('Food_Supply_Quantity_kg_Data.csv')\n",
    "df_protein = pd.read_csv('Protein_Supply_Quantity_Data.csv')\n",
    "df_fat = pd.read_csv('Fat_Supply_Quantity_Data.csv')\n",
    "df_category = pd.read_csv('Supply_Food_Data_Descriptions.csv')\n"
   ]
  },
  {
   "cell_type": "markdown",
   "metadata": {
    "colab_type": "text",
    "id": "Aj2MY336-ylZ"
   },
   "source": [
    "---"
   ]
  },
  {
   "cell_type": "markdown",
   "metadata": {
    "colab_type": "text",
    "id": "xWD8Zh-r_TxA"
   },
   "source": [
    "# Soal 1: Memisahkan kolom pada supply dataset antara kategori makanan dan bukan makanan"
   ]
  },
  {
   "cell_type": "markdown",
   "metadata": {
    "colab_type": "text",
    "id": "s4OM-RnaAQKl"
   },
   "source": [
    "Teman-teman diminta untuk menampilkan list kolom-kolom pada supply DataFrame dengan ketentuan sebagai berikut:\n",
    "\n",
    "*   all columns: list yang berisikan semua kolom pada supply DataFrame\n",
    "*   supply columns: list yang berisikan semua kolom pada supply DataFrame berdasarkan kolom 'Categories' pada DataFrame df_category\n",
    "*   non-supply columns: list yang berisikan semua kolom non-supply pada supply DataFrame\n"
   ]
  },
  {
   "cell_type": "code",
   "execution_count": 14,
   "metadata": {
    "colab": {},
    "colab_type": "code",
    "id": "8aHiCSZh5q1g"
   },
   "outputs": [
    {
     "name": "stdout",
     "output_type": "stream",
     "text": [
      "All Columns : ['Country', 'Alcoholic Beverages', 'Animal fats', 'Animal Products', 'Aquatic Products, Other', 'Cereals - Excluding Beer', 'Eggs', 'Fish, Seafood', 'Fruits - Excluding Wine', 'Meat', 'Milk - Excluding Butter', 'Miscellaneous', 'Offals', 'Oilcrops', 'Pulses', 'Spices', 'Starchy Roots', 'Stimulants', 'Sugar & Sweeteners', 'Sugar Crops', 'Treenuts', 'Vegetable Oils', 'Vegetables', 'Vegetal Products', 'Obesity', 'Undernourished', 'Confirmed', 'Deaths', 'Recovered', 'Active', 'Population', 'Unit (all except Population)'] \n",
      "\n",
      "\n",
      "All Columns : ['Country', 'Alcoholic Beverages', 'Animal fats', 'Animal Products', 'Aquatic Products, Other', 'Cereals - Excluding Beer', 'Eggs', 'Fish, Seafood', 'Fruits - Excluding Wine', 'Meat', 'Milk - Excluding Butter', 'Miscellaneous', 'Offals', 'Oilcrops', 'Pulses', 'Spices', 'Starchy Roots', 'Stimulants', 'Sugar & Sweeteners', 'Sugar Crops', 'Treenuts', 'Vegetable Oils', 'Vegetables', 'Vegetal Products', 'Obesity', 'Undernourished', 'Confirmed', 'Deaths', 'Recovered', 'Active', 'Population', 'Unit (all except Population)'] \n",
      "\n",
      "Supply Columns : ['Alcoholic Beverages', 'Animal fats', 'Animal Products', 'Aquatic Products, Other', 'Cereals - Excluding Beer', 'Eggs', 'Fish, Seafood', 'Fruits - Excluding Wine', 'Meat', 'Milk - Excluding Butter', 'Miscellaneous', 'Offals', 'Oilcrops', 'Pulses', 'Spices', 'Starchy Roots', 'Stimulants', 'Sugar & Sweeteners', 'Sugar Crops', 'Treenuts', 'Vegetable Oils', 'Vegetables', 'Vegetal Products'] \n",
      "\n",
      "Non Supply Columns : ['Country', 'Obesity', 'Undernourished', 'Confirmed', 'Deaths', 'Recovered', 'Active', 'Population', 'Unit (all except Population)']\n"
     ]
    }
   ],
   "source": [
    "# Example\n",
    "all_columns = df_food.columns.tolist()\n",
    "print(f'All Columns : {all_columns} \\n\\n')\n",
    "\n",
    "# Code here\n",
    "All_Columns = pd.concat([df_food, df_protein, df_fat])\n",
    "\n",
    "Supply_Columns = All_Columns[df_category['Categories']]\n",
    "\n",
    "Non_Supply_Columns = All_Columns.drop(Supply_Columns.columns, axis=1)\n",
    "\n",
    "print('All Columns :', list(All_Columns.columns), '\\n')\n",
    "print('Supply Columns :', list(Supply_Columns.columns),'\\n')\n",
    "print('Non Supply Columns :' , list(Non_Supply_Columns.columns))"
   ]
  },
  {
   "cell_type": "markdown",
   "metadata": {
    "colab_type": "text",
    "id": "A84xqzyoC0jU"
   },
   "source": [
    "Expected Output:\n",
    "\n",
    "![Expected Output:](https://drive.google.com/uc?id=1ItjI9ALd2I8tgJ2i8pa_UjdFfKS35mNu)"
   ]
  },
  {
   "cell_type": "markdown",
   "metadata": {
    "colab_type": "text",
    "id": "gnRBLXPZC3PD"
   },
   "source": [
    "---"
   ]
  },
  {
   "cell_type": "markdown",
   "metadata": {
    "colab_type": "text",
    "id": "zVjfRh2xDC8g"
   },
   "source": [
    "# Soal 2: Menggabungkan DataFrame\n",
    "\n"
   ]
  },
  {
   "cell_type": "markdown",
   "metadata": {
    "colab_type": "text",
    "id": "-xRZSuKBDYeQ"
   },
   "source": [
    "Gabungkan semua supply DataFrame dengan ketentuan tidak ada kolom dengan nama yang sama. Untuk kolom-kolom non-supply seperti tersebut di atas, memiliki nilai yang sama untuk setiap DataFrame, sehingga cukup ambil dari salah satu DataFrame. Sedangkan untuk kolom-kolom supply seperti tersebut di atas, setiap DataFrame (df_food, df_protein, df_fat) memiliki nilai yang berbeda, sehingga teman-teman perlu menambahkan suffix berdasarkan jenis supply DataFrame-nya, misalkan untuk kolom 'eggs' teman teman harus menambahkan suffix sehingga DataFrame gabungan memiliki kolom 'eggs_food', 'eggs_protein', dan 'eggs_fat'. Untuk mendapatkan gambaran lebih jelas, silahkan lihat pada expected output."
   ]
  },
  {
   "cell_type": "markdown",
   "metadata": {
    "colab_type": "text",
    "id": "UWBJLohAKODF"
   },
   "source": [
    "List kolom-kolom DataFrame hasil gabungan adalah sebagai berikut:\n",
    "\n",
    "\n",
    "```\n",
    " ['Country', 'Alcoholic Beverages_food', 'Animal fats_food',\n",
    "  'Animal Products_food', 'Aquatic Products, Other_food',\n",
    "  'Cereals - Excluding Beer_food', 'Eggs_food', 'Fish, Seafood_food',\n",
    "  'Fruits - Excluding Wine_food', 'Meat_food',\n",
    "  'Milk - Excluding Butter_food', 'Miscellaneous_food', 'Offals_food',\n",
    "  'Oilcrops_food', 'Pulses_food', 'Spices_food', 'Starchy Roots_food',\n",
    "  'Stimulants_food', 'Sugar & Sweeteners_food', 'Sugar Crops_food',\n",
    "  'Treenuts_food', 'Vegetable Oils_food', 'Vegetables_food',\n",
    "  'Vegetal Products_food', 'Alcoholic Beverages_protein',\n",
    "  'Animal fats_protein', 'Animal Products_protein',\n",
    "  'Aquatic Products, Other_protein', 'Cereals - Excluding Beer_protein',\n",
    "  'Eggs_protein', 'Fish, Seafood_protein',\n",
    "  'Fruits - Excluding Wine_protein', 'Meat_protein',\n",
    "  'Milk - Excluding Butter_protein', 'Miscellaneous_protein',\n",
    "  'Offals_protein', 'Oilcrops_protein', 'Pulses_protein',\n",
    "  'Spices_protein', 'Starchy Roots_protein', 'Stimulants_protein',\n",
    "  'Sugar & Sweeteners_protein', 'Sugar Crops_protein', 'Treenuts_protein',\n",
    "  'Vegetable Oils_protein', 'Vegetables_protein',\n",
    "  'Vegetal Products_protein', 'Alcoholic Beverages_fat',\n",
    "  'Animal fats_fat', 'Animal Products_fat', 'Aquatic Products, Other_fat',\n",
    "  'Cereals - Excluding Beer_fat', 'Eggs_fat', 'Fish, Seafood_fat',\n",
    "  'Fruits - Excluding Wine_fat', 'Meat_fat',\n",
    "  'Milk - Excluding Butter_fat', 'Miscellaneous_fat', 'Offals_fat',\n",
    "  'Oilcrops_fat', 'Pulses_fat', 'Spices_fat', 'Starchy Roots_fat',\n",
    "  'Stimulants_fat', 'Sugar & Sweeteners_fat', 'Sugar Crops_fat',\n",
    "  'Treenuts_fat', 'Vegetable Oils_fat', 'Vegetables_fat',\n",
    "  'Vegetal Products_fat', 'Obesity', 'Undernourished', 'Confirmed',\n",
    "  'Deaths', 'Recovered', 'Active', 'Population',\n",
    "  'Unit (all except Population)']\n",
    "```"
   ]
  },
  {
   "cell_type": "code",
   "execution_count": 15,
   "metadata": {
    "colab": {},
    "colab_type": "code",
    "id": "v8_WdQrCFvbY"
   },
   "outputs": [
    {
     "ename": "NameError",
     "evalue": "name 'non_supply_columns' is not defined",
     "output_type": "error",
     "traceback": [
      "\u001b[1;31m---------------------------------------------------------------------------\u001b[0m",
      "\u001b[1;31mNameError\u001b[0m                                 Traceback (most recent call last)",
      "\u001b[1;32m<ipython-input-15-ddd04f7e19e6>\u001b[0m in \u001b[0;36m<module>\u001b[1;34m\u001b[0m\n\u001b[0;32m      1\u001b[0m \u001b[1;31m# Hint\u001b[0m\u001b[1;33m\u001b[0m\u001b[1;33m\u001b[0m\u001b[1;33m\u001b[0m\u001b[0m\n\u001b[1;32m----> 2\u001b[1;33m \u001b[0mdf_non_supply_new\u001b[0m \u001b[1;33m=\u001b[0m \u001b[0mdf_food\u001b[0m\u001b[1;33m[\u001b[0m\u001b[0mnon_supply_columns\u001b[0m\u001b[1;33m]\u001b[0m\u001b[1;33m\u001b[0m\u001b[1;33m\u001b[0m\u001b[0m\n\u001b[0m\u001b[0;32m      3\u001b[0m \u001b[0mdf_food_new\u001b[0m \u001b[1;33m=\u001b[0m \u001b[0mdf_food\u001b[0m\u001b[1;33m[\u001b[0m\u001b[1;33m[\u001b[0m\u001b[1;34m'Country'\u001b[0m\u001b[1;33m]\u001b[0m\u001b[1;33m+\u001b[0m\u001b[0msupply_columns\u001b[0m\u001b[1;33m]\u001b[0m\u001b[1;33m\u001b[0m\u001b[1;33m\u001b[0m\u001b[0m\n\u001b[0;32m      4\u001b[0m \u001b[0mdf_protein_new\u001b[0m \u001b[1;33m=\u001b[0m \u001b[0mdf_protein\u001b[0m\u001b[1;33m[\u001b[0m\u001b[1;33m[\u001b[0m\u001b[1;34m'Country'\u001b[0m\u001b[1;33m]\u001b[0m\u001b[1;33m+\u001b[0m\u001b[0msupply_columns\u001b[0m\u001b[1;33m]\u001b[0m\u001b[1;33m\u001b[0m\u001b[1;33m\u001b[0m\u001b[0m\n\u001b[0;32m      5\u001b[0m \u001b[0mdf_fat_new\u001b[0m \u001b[1;33m=\u001b[0m \u001b[0mdf_fat\u001b[0m\u001b[1;33m[\u001b[0m\u001b[1;33m[\u001b[0m\u001b[1;34m'Country'\u001b[0m\u001b[1;33m]\u001b[0m\u001b[1;33m+\u001b[0m\u001b[0msupply_columns\u001b[0m\u001b[1;33m]\u001b[0m\u001b[1;33m\u001b[0m\u001b[1;33m\u001b[0m\u001b[0m\n",
      "\u001b[1;31mNameError\u001b[0m: name 'non_supply_columns' is not defined"
     ]
    }
   ],
   "source": [
    "# Hint\n",
    "df_non_supply_new = df_food[non_supply_columns]\n",
    "df_food_new = df_food[['Country']+supply_columns]\n",
    "df_protein_new = df_protein[['Country']+supply_columns]\n",
    "df_fat_new = df_fat[['Country']+supply_columns]"
   ]
  },
  {
   "cell_type": "code",
   "execution_count": 16,
   "metadata": {
    "colab": {},
    "colab_type": "code",
    "id": "jtV0pJZGFwne"
   },
   "outputs": [
    {
     "data": {
      "text/html": [
       "<div>\n",
       "<style scoped>\n",
       "    .dataframe tbody tr th:only-of-type {\n",
       "        vertical-align: middle;\n",
       "    }\n",
       "\n",
       "    .dataframe tbody tr th {\n",
       "        vertical-align: top;\n",
       "    }\n",
       "\n",
       "    .dataframe thead th {\n",
       "        text-align: right;\n",
       "    }\n",
       "</style>\n",
       "<table border=\"1\" class=\"dataframe\">\n",
       "  <thead>\n",
       "    <tr style=\"text-align: right;\">\n",
       "      <th></th>\n",
       "      <th>Country</th>\n",
       "      <th>Alcoholic Beverages_food</th>\n",
       "      <th>Animal fats_food</th>\n",
       "      <th>Animal Products_food</th>\n",
       "      <th>Aquatic Products, Other_food</th>\n",
       "      <th>Cereals - Excluding Beer_food</th>\n",
       "      <th>Eggs_food</th>\n",
       "      <th>Fish, Seafood_food</th>\n",
       "      <th>Fruits - Excluding Wine_food</th>\n",
       "      <th>Meat_food</th>\n",
       "      <th>...</th>\n",
       "      <th>Spices_protein</th>\n",
       "      <th>Starchy Roots_protein</th>\n",
       "      <th>Stimulants_protein</th>\n",
       "      <th>Sugar Crops_protein</th>\n",
       "      <th>Sugar &amp; Sweeteners_protein</th>\n",
       "      <th>Treenuts_protein</th>\n",
       "      <th>Vegetal Products_protein</th>\n",
       "      <th>Vegetable Oils_protein</th>\n",
       "      <th>Vegetables_protein</th>\n",
       "      <th>Miscellaneous_protein</th>\n",
       "    </tr>\n",
       "  </thead>\n",
       "  <tbody>\n",
       "    <tr>\n",
       "      <th>0</th>\n",
       "      <td>Afghanistan</td>\n",
       "      <td>0.0014</td>\n",
       "      <td>0.1973</td>\n",
       "      <td>9.4341</td>\n",
       "      <td>0.0000</td>\n",
       "      <td>24.8097</td>\n",
       "      <td>0.2099</td>\n",
       "      <td>0.0350</td>\n",
       "      <td>5.3495</td>\n",
       "      <td>1.2020</td>\n",
       "      <td>...</td>\n",
       "      <td>0.1664</td>\n",
       "      <td>0.1941</td>\n",
       "      <td>0.5546</td>\n",
       "      <td>0.0000</td>\n",
       "      <td>0.0000</td>\n",
       "      <td>0.1387</td>\n",
       "      <td>40.2477</td>\n",
       "      <td>0.0000</td>\n",
       "      <td>1.1370</td>\n",
       "      <td>0.0462</td>\n",
       "    </tr>\n",
       "    <tr>\n",
       "      <th>1</th>\n",
       "      <td>Albania</td>\n",
       "      <td>1.6719</td>\n",
       "      <td>0.1357</td>\n",
       "      <td>18.7684</td>\n",
       "      <td>0.0000</td>\n",
       "      <td>5.7817</td>\n",
       "      <td>0.5815</td>\n",
       "      <td>0.2126</td>\n",
       "      <td>6.7861</td>\n",
       "      <td>1.8845</td>\n",
       "      <td>...</td>\n",
       "      <td>0.0000</td>\n",
       "      <td>0.8867</td>\n",
       "      <td>0.2635</td>\n",
       "      <td>0.0000</td>\n",
       "      <td>0.0042</td>\n",
       "      <td>0.2677</td>\n",
       "      <td>22.2552</td>\n",
       "      <td>0.0084</td>\n",
       "      <td>3.2456</td>\n",
       "      <td>0.0544</td>\n",
       "    </tr>\n",
       "    <tr>\n",
       "      <th>2</th>\n",
       "      <td>Algeria</td>\n",
       "      <td>0.2711</td>\n",
       "      <td>0.0282</td>\n",
       "      <td>9.6334</td>\n",
       "      <td>0.0000</td>\n",
       "      <td>13.6816</td>\n",
       "      <td>0.5277</td>\n",
       "      <td>0.2416</td>\n",
       "      <td>6.3801</td>\n",
       "      <td>1.1305</td>\n",
       "      <td>...</td>\n",
       "      <td>0.1776</td>\n",
       "      <td>1.4638</td>\n",
       "      <td>0.4628</td>\n",
       "      <td>0.0000</td>\n",
       "      <td>0.0000</td>\n",
       "      <td>0.2745</td>\n",
       "      <td>36.1694</td>\n",
       "      <td>0.0269</td>\n",
       "      <td>3.1267</td>\n",
       "      <td>0.1399</td>\n",
       "    </tr>\n",
       "    <tr>\n",
       "      <th>3</th>\n",
       "      <td>Angola</td>\n",
       "      <td>5.8087</td>\n",
       "      <td>0.0560</td>\n",
       "      <td>4.9278</td>\n",
       "      <td>0.0000</td>\n",
       "      <td>9.1085</td>\n",
       "      <td>0.0587</td>\n",
       "      <td>1.7707</td>\n",
       "      <td>6.0005</td>\n",
       "      <td>2.0571</td>\n",
       "      <td>...</td>\n",
       "      <td>0.0000</td>\n",
       "      <td>5.1941</td>\n",
       "      <td>0.1017</td>\n",
       "      <td>0.0000</td>\n",
       "      <td>0.0092</td>\n",
       "      <td>0.0092</td>\n",
       "      <td>34.7782</td>\n",
       "      <td>0.0092</td>\n",
       "      <td>0.8133</td>\n",
       "      <td>0.0924</td>\n",
       "    </tr>\n",
       "    <tr>\n",
       "      <th>4</th>\n",
       "      <td>Antigua and Barbuda</td>\n",
       "      <td>3.5764</td>\n",
       "      <td>0.0087</td>\n",
       "      <td>16.6613</td>\n",
       "      <td>0.0000</td>\n",
       "      <td>5.9960</td>\n",
       "      <td>0.2274</td>\n",
       "      <td>4.1489</td>\n",
       "      <td>10.7451</td>\n",
       "      <td>5.6888</td>\n",
       "      <td>...</td>\n",
       "      <td>0.3438</td>\n",
       "      <td>0.4666</td>\n",
       "      <td>0.4113</td>\n",
       "      <td>0.0000</td>\n",
       "      <td>0.0000</td>\n",
       "      <td>0.0737</td>\n",
       "      <td>16.8161</td>\n",
       "      <td>0.0430</td>\n",
       "      <td>1.6024</td>\n",
       "      <td>0.2947</td>\n",
       "    </tr>\n",
       "    <tr>\n",
       "      <th>...</th>\n",
       "      <td>...</td>\n",
       "      <td>...</td>\n",
       "      <td>...</td>\n",
       "      <td>...</td>\n",
       "      <td>...</td>\n",
       "      <td>...</td>\n",
       "      <td>...</td>\n",
       "      <td>...</td>\n",
       "      <td>...</td>\n",
       "      <td>...</td>\n",
       "      <td>...</td>\n",
       "      <td>...</td>\n",
       "      <td>...</td>\n",
       "      <td>...</td>\n",
       "      <td>...</td>\n",
       "      <td>...</td>\n",
       "      <td>...</td>\n",
       "      <td>...</td>\n",
       "      <td>...</td>\n",
       "      <td>...</td>\n",
       "      <td>...</td>\n",
       "    </tr>\n",
       "    <tr>\n",
       "      <th>165</th>\n",
       "      <td>Venezuela (Bolivarian Republic of)</td>\n",
       "      <td>2.5952</td>\n",
       "      <td>0.0403</td>\n",
       "      <td>14.7565</td>\n",
       "      <td>0.0000</td>\n",
       "      <td>12.9253</td>\n",
       "      <td>0.3389</td>\n",
       "      <td>0.9456</td>\n",
       "      <td>7.6460</td>\n",
       "      <td>3.8328</td>\n",
       "      <td>...</td>\n",
       "      <td>0.0000</td>\n",
       "      <td>1.1195</td>\n",
       "      <td>0.3287</td>\n",
       "      <td>0.0000</td>\n",
       "      <td>0.0178</td>\n",
       "      <td>0.0000</td>\n",
       "      <td>27.4545</td>\n",
       "      <td>0.0533</td>\n",
       "      <td>1.0129</td>\n",
       "      <td>0.0267</td>\n",
       "    </tr>\n",
       "    <tr>\n",
       "      <th>166</th>\n",
       "      <td>Vietnam</td>\n",
       "      <td>1.4591</td>\n",
       "      <td>0.1640</td>\n",
       "      <td>8.5765</td>\n",
       "      <td>0.0042</td>\n",
       "      <td>16.8740</td>\n",
       "      <td>0.3077</td>\n",
       "      <td>2.6392</td>\n",
       "      <td>5.9029</td>\n",
       "      <td>4.4382</td>\n",
       "      <td>...</td>\n",
       "      <td>0.5221</td>\n",
       "      <td>0.2333</td>\n",
       "      <td>0.5444</td>\n",
       "      <td>0.0167</td>\n",
       "      <td>0.0056</td>\n",
       "      <td>0.3277</td>\n",
       "      <td>29.5617</td>\n",
       "      <td>0.0000</td>\n",
       "      <td>3.7216</td>\n",
       "      <td>0.0389</td>\n",
       "    </tr>\n",
       "    <tr>\n",
       "      <th>167</th>\n",
       "      <td>Yemen</td>\n",
       "      <td>0.0364</td>\n",
       "      <td>0.0446</td>\n",
       "      <td>5.7874</td>\n",
       "      <td>0.0000</td>\n",
       "      <td>27.2077</td>\n",
       "      <td>0.2579</td>\n",
       "      <td>0.5240</td>\n",
       "      <td>5.1344</td>\n",
       "      <td>2.7871</td>\n",
       "      <td>...</td>\n",
       "      <td>0.0657</td>\n",
       "      <td>0.2066</td>\n",
       "      <td>0.3193</td>\n",
       "      <td>0.0000</td>\n",
       "      <td>0.0000</td>\n",
       "      <td>0.0188</td>\n",
       "      <td>39.9831</td>\n",
       "      <td>0.0000</td>\n",
       "      <td>0.5448</td>\n",
       "      <td>0.0564</td>\n",
       "    </tr>\n",
       "    <tr>\n",
       "      <th>168</th>\n",
       "      <td>Zambia</td>\n",
       "      <td>5.7360</td>\n",
       "      <td>0.0829</td>\n",
       "      <td>6.0197</td>\n",
       "      <td>0.0000</td>\n",
       "      <td>21.1938</td>\n",
       "      <td>0.3399</td>\n",
       "      <td>1.6924</td>\n",
       "      <td>1.0183</td>\n",
       "      <td>1.8427</td>\n",
       "      <td>...</td>\n",
       "      <td>0.0846</td>\n",
       "      <td>1.2863</td>\n",
       "      <td>0.0762</td>\n",
       "      <td>0.0000</td>\n",
       "      <td>0.0000</td>\n",
       "      <td>0.0000</td>\n",
       "      <td>40.1117</td>\n",
       "      <td>0.0000</td>\n",
       "      <td>0.8039</td>\n",
       "      <td>0.0592</td>\n",
       "    </tr>\n",
       "    <tr>\n",
       "      <th>169</th>\n",
       "      <td>Zimbabwe</td>\n",
       "      <td>4.0552</td>\n",
       "      <td>0.0755</td>\n",
       "      <td>8.1489</td>\n",
       "      <td>0.0000</td>\n",
       "      <td>22.6240</td>\n",
       "      <td>0.2678</td>\n",
       "      <td>0.5518</td>\n",
       "      <td>2.2000</td>\n",
       "      <td>2.6142</td>\n",
       "      <td>...</td>\n",
       "      <td>0.0488</td>\n",
       "      <td>0.5467</td>\n",
       "      <td>0.2636</td>\n",
       "      <td>0.0000</td>\n",
       "      <td>0.0000</td>\n",
       "      <td>0.1367</td>\n",
       "      <td>38.6508</td>\n",
       "      <td>0.0293</td>\n",
       "      <td>0.5955</td>\n",
       "      <td>0.0586</td>\n",
       "    </tr>\n",
       "  </tbody>\n",
       "</table>\n",
       "<p>170 rows × 78 columns</p>\n",
       "</div>"
      ],
      "text/plain": [
       "                                Country  Alcoholic Beverages_food  \\\n",
       "0                           Afghanistan                    0.0014   \n",
       "1                               Albania                    1.6719   \n",
       "2                               Algeria                    0.2711   \n",
       "3                                Angola                    5.8087   \n",
       "4                   Antigua and Barbuda                    3.5764   \n",
       "..                                  ...                       ...   \n",
       "165  Venezuela (Bolivarian Republic of)                    2.5952   \n",
       "166                             Vietnam                    1.4591   \n",
       "167                               Yemen                    0.0364   \n",
       "168                              Zambia                    5.7360   \n",
       "169                            Zimbabwe                    4.0552   \n",
       "\n",
       "     Animal fats_food  Animal Products_food  Aquatic Products, Other_food  \\\n",
       "0              0.1973                9.4341                        0.0000   \n",
       "1              0.1357               18.7684                        0.0000   \n",
       "2              0.0282                9.6334                        0.0000   \n",
       "3              0.0560                4.9278                        0.0000   \n",
       "4              0.0087               16.6613                        0.0000   \n",
       "..                ...                   ...                           ...   \n",
       "165            0.0403               14.7565                        0.0000   \n",
       "166            0.1640                8.5765                        0.0042   \n",
       "167            0.0446                5.7874                        0.0000   \n",
       "168            0.0829                6.0197                        0.0000   \n",
       "169            0.0755                8.1489                        0.0000   \n",
       "\n",
       "     Cereals - Excluding Beer_food  Eggs_food  Fish, Seafood_food  \\\n",
       "0                          24.8097     0.2099              0.0350   \n",
       "1                           5.7817     0.5815              0.2126   \n",
       "2                          13.6816     0.5277              0.2416   \n",
       "3                           9.1085     0.0587              1.7707   \n",
       "4                           5.9960     0.2274              4.1489   \n",
       "..                             ...        ...                 ...   \n",
       "165                        12.9253     0.3389              0.9456   \n",
       "166                        16.8740     0.3077              2.6392   \n",
       "167                        27.2077     0.2579              0.5240   \n",
       "168                        21.1938     0.3399              1.6924   \n",
       "169                        22.6240     0.2678              0.5518   \n",
       "\n",
       "     Fruits - Excluding Wine_food  Meat_food  ...  Spices_protein  \\\n",
       "0                          5.3495     1.2020  ...          0.1664   \n",
       "1                          6.7861     1.8845  ...          0.0000   \n",
       "2                          6.3801     1.1305  ...          0.1776   \n",
       "3                          6.0005     2.0571  ...          0.0000   \n",
       "4                         10.7451     5.6888  ...          0.3438   \n",
       "..                            ...        ...  ...             ...   \n",
       "165                        7.6460     3.8328  ...          0.0000   \n",
       "166                        5.9029     4.4382  ...          0.5221   \n",
       "167                        5.1344     2.7871  ...          0.0657   \n",
       "168                        1.0183     1.8427  ...          0.0846   \n",
       "169                        2.2000     2.6142  ...          0.0488   \n",
       "\n",
       "     Starchy Roots_protein  Stimulants_protein  Sugar Crops_protein  \\\n",
       "0                   0.1941              0.5546               0.0000   \n",
       "1                   0.8867              0.2635               0.0000   \n",
       "2                   1.4638              0.4628               0.0000   \n",
       "3                   5.1941              0.1017               0.0000   \n",
       "4                   0.4666              0.4113               0.0000   \n",
       "..                     ...                 ...                  ...   \n",
       "165                 1.1195              0.3287               0.0000   \n",
       "166                 0.2333              0.5444               0.0167   \n",
       "167                 0.2066              0.3193               0.0000   \n",
       "168                 1.2863              0.0762               0.0000   \n",
       "169                 0.5467              0.2636               0.0000   \n",
       "\n",
       "     Sugar & Sweeteners_protein  Treenuts_protein  Vegetal Products_protein  \\\n",
       "0                        0.0000            0.1387                   40.2477   \n",
       "1                        0.0042            0.2677                   22.2552   \n",
       "2                        0.0000            0.2745                   36.1694   \n",
       "3                        0.0092            0.0092                   34.7782   \n",
       "4                        0.0000            0.0737                   16.8161   \n",
       "..                          ...               ...                       ...   \n",
       "165                      0.0178            0.0000                   27.4545   \n",
       "166                      0.0056            0.3277                   29.5617   \n",
       "167                      0.0000            0.0188                   39.9831   \n",
       "168                      0.0000            0.0000                   40.1117   \n",
       "169                      0.0000            0.1367                   38.6508   \n",
       "\n",
       "     Vegetable Oils_protein  Vegetables_protein  Miscellaneous_protein  \n",
       "0                    0.0000              1.1370                 0.0462  \n",
       "1                    0.0084              3.2456                 0.0544  \n",
       "2                    0.0269              3.1267                 0.1399  \n",
       "3                    0.0092              0.8133                 0.0924  \n",
       "4                    0.0430              1.6024                 0.2947  \n",
       "..                      ...                 ...                    ...  \n",
       "165                  0.0533              1.0129                 0.0267  \n",
       "166                  0.0000              3.7216                 0.0389  \n",
       "167                  0.0000              0.5448                 0.0564  \n",
       "168                  0.0000              0.8039                 0.0592  \n",
       "169                  0.0293              0.5955                 0.0586  \n",
       "\n",
       "[170 rows x 78 columns]"
      ]
     },
     "execution_count": 16,
     "metadata": {},
     "output_type": "execute_result"
    }
   ],
   "source": [
    "# Selanjutnya gabungkan dataset pada hint di atas dengan menambahkan suffix berbeda untuk setiap supply dataset menggunakan pd.merge\n",
    "# Code here\n",
    "for i in df_food.columns:\n",
    "  if(i in Supply_Columns.columns):\n",
    "    df_food.rename(columns={i:i + '_food'}, inplace=True)\n",
    "for i in df_fat.columns:\n",
    "  if(i in Supply_Columns.columns):\n",
    "    df_fat.rename(columns={i:i + '_fat'}, inplace=True)\n",
    "for i in df_protein.columns:\n",
    "  if(i in Supply_Columns.columns):\n",
    "    df_protein.rename(columns={i:i + '_protein'}, inplace=True)   \n",
    "\n",
    "df = pd.merge(df_food, df_fat, how='outer')\n",
    "df = pd.merge(df, df_protein, how='outer')\n",
    "\n",
    "df"
   ]
  },
  {
   "cell_type": "markdown",
   "metadata": {
    "colab_type": "text",
    "id": "5xLsdo-1vmk3"
   },
   "source": [
    "Expected output (kolom tidak semua ditampilkan):\n",
    "![Expected Output:](https://drive.google.com/uc?id=1_thZs6C82RhDFqWo5yGuZV_OWhgvqsnu)"
   ]
  },
  {
   "cell_type": "markdown",
   "metadata": {
    "colab_type": "text",
    "id": "8eRlFcl7IY-L"
   },
   "source": [
    "---"
   ]
  },
  {
   "cell_type": "markdown",
   "metadata": {
    "colab_type": "text",
    "id": "1O9_Cu_gIaxd"
   },
   "source": [
    "# Soal 3: Sorting dan Filtering"
   ]
  },
  {
   "cell_type": "markdown",
   "metadata": {
    "colab_type": "text",
    "id": "iIPsCyFSIh27"
   },
   "source": [
    "Dari DataFrame hasil penggabungan pada Soal 2 (atau gunakan salah satu supply DataFrame karena kolom nilai non-supply memiliki nilai yang sama), kemudian urutkan data (sort) berdasarkan kolom kematian ('Deaths') dari yang terbesar. Setelah itu lakukan perintah berikut:\n",
    "\n",
    "- Print data hasil sorting\n",
    "- Urutan ke berapakah Indonesia berdasarkan tingkat kematian akibat COVID-19 setelah diurutkan dari yang terbesar? Gunakan code mendapatkan nilainya! \n",
    "- Berapa persen dari terkonfirmasi jumlah kematian akibat COVID-19 di Indonesia? Hitung jumlah orang yang meninggal! Gunakan code mendapatkan nilainya! #hint: jumlah orang yang meninggal = populasi * kematian --> jangan lupa ada yang masih dalam persen\n"
   ]
  },
  {
   "cell_type": "code",
   "execution_count": 17,
   "metadata": {
    "colab": {},
    "colab_type": "code",
    "id": "n1yZCZ4bOo6m"
   },
   "outputs": [
    {
     "data": {
      "text/html": [
       "<div>\n",
       "<style scoped>\n",
       "    .dataframe tbody tr th:only-of-type {\n",
       "        vertical-align: middle;\n",
       "    }\n",
       "\n",
       "    .dataframe tbody tr th {\n",
       "        vertical-align: top;\n",
       "    }\n",
       "\n",
       "    .dataframe thead th {\n",
       "        text-align: right;\n",
       "    }\n",
       "</style>\n",
       "<table border=\"1\" class=\"dataframe\">\n",
       "  <thead>\n",
       "    <tr style=\"text-align: right;\">\n",
       "      <th></th>\n",
       "      <th>Country</th>\n",
       "      <th>Deaths</th>\n",
       "    </tr>\n",
       "  </thead>\n",
       "  <tbody>\n",
       "    <tr>\n",
       "      <th>14</th>\n",
       "      <td>Belgium</td>\n",
       "      <td>0.085497</td>\n",
       "    </tr>\n",
       "    <tr>\n",
       "      <th>159</th>\n",
       "      <td>United Kingdom</td>\n",
       "      <td>0.068919</td>\n",
       "    </tr>\n",
       "    <tr>\n",
       "      <th>120</th>\n",
       "      <td>Peru</td>\n",
       "      <td>0.059755</td>\n",
       "    </tr>\n",
       "    <tr>\n",
       "      <th>141</th>\n",
       "      <td>Spain</td>\n",
       "      <td>0.059714</td>\n",
       "    </tr>\n",
       "    <tr>\n",
       "      <th>74</th>\n",
       "      <td>Italy</td>\n",
       "      <td>0.058302</td>\n",
       "    </tr>\n",
       "    <tr>\n",
       "      <th>...</th>\n",
       "      <td>...</td>\n",
       "      <td>...</td>\n",
       "    </tr>\n",
       "    <tr>\n",
       "      <th>109</th>\n",
       "      <td>New Caledonia</td>\n",
       "      <td>NaN</td>\n",
       "    </tr>\n",
       "    <tr>\n",
       "      <th>131</th>\n",
       "      <td>Samoa</td>\n",
       "      <td>NaN</td>\n",
       "    </tr>\n",
       "    <tr>\n",
       "      <th>139</th>\n",
       "      <td>Solomon Islands</td>\n",
       "      <td>NaN</td>\n",
       "    </tr>\n",
       "    <tr>\n",
       "      <th>155</th>\n",
       "      <td>Turkmenistan</td>\n",
       "      <td>NaN</td>\n",
       "    </tr>\n",
       "    <tr>\n",
       "      <th>164</th>\n",
       "      <td>Vanuatu</td>\n",
       "      <td>NaN</td>\n",
       "    </tr>\n",
       "  </tbody>\n",
       "</table>\n",
       "<p>170 rows × 2 columns</p>\n",
       "</div>"
      ],
      "text/plain": [
       "             Country    Deaths\n",
       "14           Belgium  0.085497\n",
       "159   United Kingdom  0.068919\n",
       "120             Peru  0.059755\n",
       "141            Spain  0.059714\n",
       "74             Italy  0.058302\n",
       "..               ...       ...\n",
       "109    New Caledonia       NaN\n",
       "131            Samoa       NaN\n",
       "139  Solomon Islands       NaN\n",
       "155     Turkmenistan       NaN\n",
       "164          Vanuatu       NaN\n",
       "\n",
       "[170 rows x 2 columns]"
      ]
     },
     "execution_count": 17,
     "metadata": {},
     "output_type": "execute_result"
    }
   ],
   "source": [
    "# Urutkan (sorting) dan print hasil sorting\n",
    "# Code here\n",
    "df_Deaths = df[['Country', 'Deaths']]\n",
    "df_Deaths = df_Deaths.sort_values(by=['Deaths'], ascending=False)\n",
    "df_Deaths"
   ]
  },
  {
   "cell_type": "code",
   "execution_count": 18,
   "metadata": {
    "colab": {},
    "colab_type": "code",
    "id": "FnohMVQwP8Og"
   },
   "outputs": [
    {
     "name": "stdout",
     "output_type": "stream",
     "text": [
      "Indonesia berada pada peringkat ke- [83]\n"
     ]
    }
   ],
   "source": [
    "# Urutan ke berapakah Indonesia\n",
    "# Code here\n",
    "df_Deaths= df_Deaths.reset_index(drop=True)\n",
    "print('Indonesia berada pada peringkat ke-',df_Deaths[df_Deaths['Country']=='Indonesia'].index.values)"
   ]
  },
  {
   "cell_type": "code",
   "execution_count": 19,
   "metadata": {
    "colab": {},
    "colab_type": "code",
    "id": "OAzky41S6eAm"
   },
   "outputs": [
    {
     "name": "stdout",
     "output_type": "stream",
     "text": [
      "Jumlah yang meninggal di Indonesia ada 0.0033763441% dari jumlah populasi.\n",
      "Jumlah yang meninggal di Indonesia ada 917484 orang.\n"
     ]
    }
   ],
   "source": [
    "# Berapa persen jumlah kematian di Indonesia? Berapa Jumlahnya?\n",
    "# Code here\n",
    "df_Deaths.loc[df.Country == 'Indonesia']\n",
    "meninggal_persen = float(df_Deaths.loc[df.Country == 'Indonesia']['Deaths'].values)\n",
    "meninggal = float(df.loc[df.Country == 'Indonesia']['Population'].values)*meninggal_persen\n",
    "\n",
    "print(f'Jumlah yang meninggal di Indonesia ada {round(meninggal_persen, 10)}% dari jumlah populasi.') # 10 digit\n",
    "print(f'Jumlah yang meninggal di Indonesia ada {round(meninggal)} orang.')"
   ]
  },
  {
   "cell_type": "markdown",
   "metadata": {
    "colab_type": "text",
    "id": "Ur4P17eNVIDU"
   },
   "source": [
    "---"
   ]
  },
  {
   "cell_type": "markdown",
   "metadata": {
    "colab_type": "text",
    "id": "zOvEqSmuUsXy"
   },
   "source": [
    "# Soal 4: Binning, Grouping, dan Aggregating data"
   ]
  },
  {
   "cell_type": "markdown",
   "metadata": {
    "colab_type": "text",
    "id": "mLxskYLCTYFT"
   },
   "source": [
    "Lakukan binning pada kolom terkonfirmasi (Confirmed) COVID-19 dari DataFrame df_fat menjadi 5 bagian (q=5). Teman-teman dapat menggunakan fungsi qcut untuk melakukan bininng ini. Masukan data hasil binning tersebut menjadi kolom baru pada DataFrame df_fat. Beri nama kolom tersebut dengan 'Confirmed Category'. Berikan label 'Sangat Tidak Banyak', 'Tidak Banyak', 'Sedang', 'Cukup Banyak', 'Sangat Banyak'.\n",
    "\n",
    "Baca dokumentasi berikut untuk fungsi qcut : https://pandas.pydata.org/pandas-docs/stable/reference/api/pandas.qcut.html\n",
    "\n",
    "Kemudian lakukan perintah-perintah berikut:\n",
    "- Buat DataFrame baru yang berisi data grouping berdasarkan kolom hasil bininng atau kolom 'Confirmed Category'. \n",
    "- Lakukan grouping hanya pada kolom 'Obesity', 'Meat', 'Fruits - Excluding Wine', 'Fish, Seafood', 'Animal Products', 'Vegetal Products' saja.\n",
    "- Kemudian aggregate dengan fungsi mean. (df_baru = df_fat.groupby(...).mean())\n",
    "- Save DataFrame hasil binning, grouping, dan aggregating ke dalam file csv."
   ]
  },
  {
   "cell_type": "code",
   "execution_count": 31,
   "metadata": {
    "colab": {},
    "colab_type": "code",
    "id": "l8o8Gu2If9N6"
   },
   "outputs": [],
   "source": [
    "# Lakukan binning pada kolom terkonfirmasi untuk DataFrame df_fat\n",
    "# labels = ['Sangat Tidak Banyak', 'Tidak Banyak', 'Sedang', 'Cukup Banyak', 'Sangat Banyak']\n",
    "\n",
    "# Code here\n",
    "\n",
    "df_food['Confirmed Category'] = pd.qcut(df_food['Confirmed'], q=5, labels=['Sangat Tidak Banyak','Tidak Banyak', 'Sedang', 'Cukup Banyak', 'Sangat Banyak'])"
   ]
  },
  {
   "cell_type": "code",
   "execution_count": 32,
   "metadata": {
    "colab": {},
    "colab_type": "code",
    "id": "wH_Twtg9gLHZ"
   },
   "outputs": [
    {
     "data": {
      "text/html": [
       "<div>\n",
       "<style scoped>\n",
       "    .dataframe tbody tr th:only-of-type {\n",
       "        vertical-align: middle;\n",
       "    }\n",
       "\n",
       "    .dataframe tbody tr th {\n",
       "        vertical-align: top;\n",
       "    }\n",
       "\n",
       "    .dataframe thead th {\n",
       "        text-align: right;\n",
       "    }\n",
       "</style>\n",
       "<table border=\"1\" class=\"dataframe\">\n",
       "  <thead>\n",
       "    <tr style=\"text-align: right;\">\n",
       "      <th></th>\n",
       "      <th>Obesity</th>\n",
       "      <th>Meat</th>\n",
       "      <th>Fruits - Excluding Wine</th>\n",
       "      <th>Fish, Seafood</th>\n",
       "      <th>Animal Products</th>\n",
       "      <th>Vegetal Products</th>\n",
       "    </tr>\n",
       "    <tr>\n",
       "      <th>Confirmed Category</th>\n",
       "      <th></th>\n",
       "      <th></th>\n",
       "      <th></th>\n",
       "      <th></th>\n",
       "      <th></th>\n",
       "      <th></th>\n",
       "    </tr>\n",
       "  </thead>\n",
       "  <tbody>\n",
       "    <tr>\n",
       "      <th>Sangat Tidak Banyak</th>\n",
       "      <td>10.618750</td>\n",
       "      <td>2.768697</td>\n",
       "      <td>5.155442</td>\n",
       "      <td>1.580852</td>\n",
       "      <td>7.850948</td>\n",
       "      <td>42.146073</td>\n",
       "    </tr>\n",
       "    <tr>\n",
       "      <th>Tidak Banyak</th>\n",
       "      <td>16.584375</td>\n",
       "      <td>3.366709</td>\n",
       "      <td>5.322006</td>\n",
       "      <td>1.552722</td>\n",
       "      <td>11.112956</td>\n",
       "      <td>38.883597</td>\n",
       "    </tr>\n",
       "    <tr>\n",
       "      <th>Sedang</th>\n",
       "      <td>18.843750</td>\n",
       "      <td>3.045931</td>\n",
       "      <td>5.660731</td>\n",
       "      <td>1.076872</td>\n",
       "      <td>12.691847</td>\n",
       "      <td>37.304597</td>\n",
       "    </tr>\n",
       "    <tr>\n",
       "      <th>Cukup Banyak</th>\n",
       "      <td>22.493750</td>\n",
       "      <td>3.485750</td>\n",
       "      <td>6.143522</td>\n",
       "      <td>0.965934</td>\n",
       "      <td>14.751816</td>\n",
       "      <td>35.244131</td>\n",
       "    </tr>\n",
       "    <tr>\n",
       "      <th>Sangat Banyak</th>\n",
       "      <td>23.921875</td>\n",
       "      <td>4.071384</td>\n",
       "      <td>5.857997</td>\n",
       "      <td>1.385441</td>\n",
       "      <td>15.261809</td>\n",
       "      <td>34.734503</td>\n",
       "    </tr>\n",
       "  </tbody>\n",
       "</table>\n",
       "</div>"
      ],
      "text/plain": [
       "                       Obesity      Meat  Fruits - Excluding Wine  \\\n",
       "Confirmed Category                                                  \n",
       "Sangat Tidak Banyak  10.618750  2.768697                 5.155442   \n",
       "Tidak Banyak         16.584375  3.366709                 5.322006   \n",
       "Sedang               18.843750  3.045931                 5.660731   \n",
       "Cukup Banyak         22.493750  3.485750                 6.143522   \n",
       "Sangat Banyak        23.921875  4.071384                 5.857997   \n",
       "\n",
       "                     Fish, Seafood  Animal Products  Vegetal Products  \n",
       "Confirmed Category                                                     \n",
       "Sangat Tidak Banyak       1.580852         7.850948         42.146073  \n",
       "Tidak Banyak              1.552722        11.112956         38.883597  \n",
       "Sedang                    1.076872        12.691847         37.304597  \n",
       "Cukup Banyak              0.965934        14.751816         35.244131  \n",
       "Sangat Banyak             1.385441        15.261809         34.734503  "
      ]
     },
     "execution_count": 32,
     "metadata": {},
     "output_type": "execute_result"
    }
   ],
   "source": [
    "# Lakukan grouping pada kolom hasil binning ('Confirmed Category'), kemudian aggregate menggunakan fungsi mean\n",
    "cols = ['Obesity', 'Meat', 'Fruits - Excluding Wine', 'Fish, Seafood', 'Animal Products', 'Vegetal Products']\n",
    "\n",
    "# Code here\n",
    "groupby_confirmed = df_food.groupby('Confirmed Category')[cols].mean()\n",
    "groupby_confirmed"
   ]
  },
  {
   "cell_type": "markdown",
   "metadata": {
    "colab_type": "text",
    "id": "uoPr2JSfwi5x"
   },
   "source": [
    "Expected output:\n",
    "![Expected Output:](https://drive.google.com/uc?id=1jw1uGaSHaKlY9ILghmTTlO9NqhQpq8Ad)"
   ]
  },
  {
   "cell_type": "code",
   "execution_count": 33,
   "metadata": {
    "colab": {},
    "colab_type": "code",
    "id": "ylCxhoZIhQ1J"
   },
   "outputs": [],
   "source": [
    "# Save DataFrame hasil binning, grouping, dan aggregating\n",
    "\n",
    "groupby_confirmed.to_csv('groupby_confirmed.csv')"
   ]
  },
  {
   "cell_type": "markdown",
   "metadata": {
    "colab_type": "text",
    "id": "QXt4J6-ki7yV"
   },
   "source": [
    "---"
   ]
  },
  {
   "cell_type": "markdown",
   "metadata": {
    "colab_type": "text",
    "id": "KYkVllUIi9gk"
   },
   "source": [
    "# Soal 5: Bar plot"
   ]
  },
  {
   "cell_type": "markdown",
   "metadata": {
    "colab_type": "text",
    "id": "oW_a_78Fjkbx"
   },
   "source": [
    "Gunakan data grouping pada soal sebelumnya untuk melakukan visualisasi. Jika kalian tidak dapat menyelesaikan soal tersebut, maka silahkan [download](https://drive.google.com/uc?export=download&id=1l5wFAKKShPQQvIe0rQ7C4Xog9tt_WDN0) data berikut yang merupakan hasil dari data grouping soal 4.\n",
    "\n",
    "Normalisasi data hasil grouping tersebut dengan rumus min-max normalisasi seperti rumus berikut ini. Kemudian buatlah grouping Visualization dengan berplot, visualisasikan data column 'Obesity', 'Fruits - Excluding Wine', 'Fish, Seafood', 'Animal Products' dan 'Vegetal Products'. "
   ]
  },
  {
   "cell_type": "markdown",
   "metadata": {
    "colab_type": "text",
    "id": "884pC4nnWZVg"
   },
   "source": [
    "\\begin{equation*}\n",
    " X_{norm} = \\dfrac{X - X_{min}}{X_{max} - X_{min}}\n",
    "\\end{equation*}\n"
   ]
  },
  {
   "cell_type": "code",
   "execution_count": 34,
   "metadata": {
    "colab": {},
    "colab_type": "code",
    "id": "-5tpx0PNlUQx"
   },
   "outputs": [
    {
     "data": {
      "text/html": [
       "<div>\n",
       "<style scoped>\n",
       "    .dataframe tbody tr th:only-of-type {\n",
       "        vertical-align: middle;\n",
       "    }\n",
       "\n",
       "    .dataframe tbody tr th {\n",
       "        vertical-align: top;\n",
       "    }\n",
       "\n",
       "    .dataframe thead th {\n",
       "        text-align: right;\n",
       "    }\n",
       "</style>\n",
       "<table border=\"1\" class=\"dataframe\">\n",
       "  <thead>\n",
       "    <tr style=\"text-align: right;\">\n",
       "      <th></th>\n",
       "      <th>Obesity</th>\n",
       "      <th>Meat</th>\n",
       "      <th>Fruits - Excluding Wine</th>\n",
       "      <th>Fish, Seafood</th>\n",
       "      <th>Animal Products</th>\n",
       "      <th>Vegetal Products</th>\n",
       "    </tr>\n",
       "    <tr>\n",
       "      <th>Confirmed Category</th>\n",
       "      <th></th>\n",
       "      <th></th>\n",
       "      <th></th>\n",
       "      <th></th>\n",
       "      <th></th>\n",
       "      <th></th>\n",
       "    </tr>\n",
       "  </thead>\n",
       "  <tbody>\n",
       "    <tr>\n",
       "      <th>Sangat Tidak Banyak</th>\n",
       "      <td>10.618750</td>\n",
       "      <td>2.768697</td>\n",
       "      <td>5.155442</td>\n",
       "      <td>1.580852</td>\n",
       "      <td>7.850948</td>\n",
       "      <td>42.146073</td>\n",
       "    </tr>\n",
       "    <tr>\n",
       "      <th>Tidak Banyak</th>\n",
       "      <td>16.584375</td>\n",
       "      <td>3.366709</td>\n",
       "      <td>5.322006</td>\n",
       "      <td>1.552722</td>\n",
       "      <td>11.112956</td>\n",
       "      <td>38.883597</td>\n",
       "    </tr>\n",
       "    <tr>\n",
       "      <th>Sedang</th>\n",
       "      <td>18.843750</td>\n",
       "      <td>3.045931</td>\n",
       "      <td>5.660731</td>\n",
       "      <td>1.076872</td>\n",
       "      <td>12.691847</td>\n",
       "      <td>37.304597</td>\n",
       "    </tr>\n",
       "    <tr>\n",
       "      <th>Cukup Banyak</th>\n",
       "      <td>22.493750</td>\n",
       "      <td>3.485750</td>\n",
       "      <td>6.143522</td>\n",
       "      <td>0.965934</td>\n",
       "      <td>14.751816</td>\n",
       "      <td>35.244131</td>\n",
       "    </tr>\n",
       "    <tr>\n",
       "      <th>Sangat Banyak</th>\n",
       "      <td>23.921875</td>\n",
       "      <td>4.071384</td>\n",
       "      <td>5.857997</td>\n",
       "      <td>1.385441</td>\n",
       "      <td>15.261809</td>\n",
       "      <td>34.734503</td>\n",
       "    </tr>\n",
       "  </tbody>\n",
       "</table>\n",
       "</div>"
      ],
      "text/plain": [
       "                       Obesity      Meat  Fruits - Excluding Wine  \\\n",
       "Confirmed Category                                                  \n",
       "Sangat Tidak Banyak  10.618750  2.768697                 5.155442   \n",
       "Tidak Banyak         16.584375  3.366709                 5.322006   \n",
       "Sedang               18.843750  3.045931                 5.660731   \n",
       "Cukup Banyak         22.493750  3.485750                 6.143522   \n",
       "Sangat Banyak        23.921875  4.071384                 5.857997   \n",
       "\n",
       "                     Fish, Seafood  Animal Products  Vegetal Products  \n",
       "Confirmed Category                                                     \n",
       "Sangat Tidak Banyak       1.580852         7.850948         42.146073  \n",
       "Tidak Banyak              1.552722        11.112956         38.883597  \n",
       "Sedang                    1.076872        12.691847         37.304597  \n",
       "Cukup Banyak              0.965934        14.751816         35.244131  \n",
       "Sangat Banyak             1.385441        15.261809         34.734503  "
      ]
     },
     "metadata": {},
     "output_type": "display_data"
    }
   ],
   "source": [
    "# Gunakan DataFrame hasil grouping soal 4 atau read data hasil download jika tidak dapat mengerjakan soal 4\n",
    "df = groupby_confirmed\n",
    "\n",
    "# Atau\n",
    "\n",
    "df = pd.read_csv('groupby_confirmed.csv').set_index('Confirmed Category')\n",
    "\n",
    "# Lihat df dan pastikan sesuai dengan expected output pada soal 4\n",
    "display(df)"
   ]
  },
  {
   "cell_type": "code",
   "execution_count": 35,
   "metadata": {
    "colab": {},
    "colab_type": "code",
    "id": "nokTOpibmhD0"
   },
   "outputs": [
    {
     "data": {
      "text/html": [
       "<div>\n",
       "<style scoped>\n",
       "    .dataframe tbody tr th:only-of-type {\n",
       "        vertical-align: middle;\n",
       "    }\n",
       "\n",
       "    .dataframe tbody tr th {\n",
       "        vertical-align: top;\n",
       "    }\n",
       "\n",
       "    .dataframe thead th {\n",
       "        text-align: right;\n",
       "    }\n",
       "</style>\n",
       "<table border=\"1\" class=\"dataframe\">\n",
       "  <thead>\n",
       "    <tr style=\"text-align: right;\">\n",
       "      <th></th>\n",
       "      <th>Obesity</th>\n",
       "      <th>Meat</th>\n",
       "      <th>Fruits - Excluding Wine</th>\n",
       "      <th>Fish, Seafood</th>\n",
       "      <th>Animal Products</th>\n",
       "      <th>Vegetal Products</th>\n",
       "    </tr>\n",
       "    <tr>\n",
       "      <th>Confirmed Category</th>\n",
       "      <th></th>\n",
       "      <th></th>\n",
       "      <th></th>\n",
       "      <th></th>\n",
       "      <th></th>\n",
       "      <th></th>\n",
       "    </tr>\n",
       "  </thead>\n",
       "  <tbody>\n",
       "    <tr>\n",
       "      <th>Sangat Tidak Banyak</th>\n",
       "      <td>0.000000</td>\n",
       "      <td>0.000000</td>\n",
       "      <td>0.000000</td>\n",
       "      <td>1.000000</td>\n",
       "      <td>0.000000</td>\n",
       "      <td>1.000000</td>\n",
       "    </tr>\n",
       "    <tr>\n",
       "      <th>Tidak Banyak</th>\n",
       "      <td>0.448438</td>\n",
       "      <td>0.459061</td>\n",
       "      <td>0.168573</td>\n",
       "      <td>0.954255</td>\n",
       "      <td>0.440166</td>\n",
       "      <td>0.559813</td>\n",
       "    </tr>\n",
       "    <tr>\n",
       "      <th>Sedang</th>\n",
       "      <td>0.618276</td>\n",
       "      <td>0.212817</td>\n",
       "      <td>0.511385</td>\n",
       "      <td>0.180410</td>\n",
       "      <td>0.653217</td>\n",
       "      <td>0.346768</td>\n",
       "    </tr>\n",
       "    <tr>\n",
       "      <th>Cukup Banyak</th>\n",
       "      <td>0.892647</td>\n",
       "      <td>0.550441</td>\n",
       "      <td>1.000000</td>\n",
       "      <td>0.000000</td>\n",
       "      <td>0.931183</td>\n",
       "      <td>0.068761</td>\n",
       "    </tr>\n",
       "    <tr>\n",
       "      <th>Sangat Banyak</th>\n",
       "      <td>1.000000</td>\n",
       "      <td>1.000000</td>\n",
       "      <td>0.711030</td>\n",
       "      <td>0.682216</td>\n",
       "      <td>1.000000</td>\n",
       "      <td>0.000000</td>\n",
       "    </tr>\n",
       "  </tbody>\n",
       "</table>\n",
       "</div>"
      ],
      "text/plain": [
       "                      Obesity      Meat  Fruits - Excluding Wine  \\\n",
       "Confirmed Category                                                 \n",
       "Sangat Tidak Banyak  0.000000  0.000000                 0.000000   \n",
       "Tidak Banyak         0.448438  0.459061                 0.168573   \n",
       "Sedang               0.618276  0.212817                 0.511385   \n",
       "Cukup Banyak         0.892647  0.550441                 1.000000   \n",
       "Sangat Banyak        1.000000  1.000000                 0.711030   \n",
       "\n",
       "                     Fish, Seafood  Animal Products  Vegetal Products  \n",
       "Confirmed Category                                                     \n",
       "Sangat Tidak Banyak       1.000000         0.000000          1.000000  \n",
       "Tidak Banyak              0.954255         0.440166          0.559813  \n",
       "Sedang                    0.180410         0.653217          0.346768  \n",
       "Cukup Banyak              0.000000         0.931183          0.068761  \n",
       "Sangat Banyak             0.682216         1.000000          0.000000  "
      ]
     },
     "metadata": {},
     "output_type": "display_data"
    }
   ],
   "source": [
    "# Lakukan normalisasi pada DataFrame df\n",
    "# Code here\n",
    "def norm(x):\n",
    "  return (x - x.min())/(x.max() - x.min())\n",
    "\n",
    "df_norm=norm(df)\n",
    "\n",
    "# Lihat df_norm dan pastikan sesuai dengan expected output\n",
    "display(df_norm)"
   ]
  },
  {
   "cell_type": "markdown",
   "metadata": {
    "colab_type": "text",
    "id": "37rjPjbanRNY"
   },
   "source": [
    "Expected output:\n",
    "![Expected Output:](https://drive.google.com/uc?id=1BFzcOFHbZMnw0wqbwl8K6IEiVmurqG84)"
   ]
  },
  {
   "cell_type": "code",
   "execution_count": 36,
   "metadata": {
    "colab": {},
    "colab_type": "code",
    "id": "lMzOW9t7nU-I"
   },
   "outputs": [
    {
     "data": {
      "text/plain": [
       "<function matplotlib.pyplot.show(close=None, block=None)>"
      ]
     },
     "execution_count": 36,
     "metadata": {},
     "output_type": "execute_result"
    },
    {
     "data": {
      "image/png": "[encoded data removed]",
      "text/plain": [
       "<Figure size 1152x576 with 1 Axes>"
      ]
     },
     "metadata": {
      "needs_background": "light"
     },
     "output_type": "display_data"
    }
   ],
   "source": [
    "# Buat bar plot dari df_norm sesuai dengan expected output\n",
    "# Code here\n",
    "\n",
    "# Untuk menambahkan label di atas barplot lihat https://matplotlib.org/3.1.1/gallery/lines_bars_and_markers/barchart.html\n",
    "\n",
    "# fig.legend()\n",
    "# plt.show()\n",
    "\n",
    "# plt.style.use('dark_background')\n",
    "\n",
    "fig, ax = plt.subplots(figsize=(16, 8))\n",
    "x = np.arange(0, 23, 4)\n",
    "w = 0.4\n",
    "y1=df_norm.loc['Sangat Tidak Banyak']\n",
    "y2=df_norm.loc['Tidak Banyak']\n",
    "y3=df_norm.loc['Sedang']\n",
    "y4=df_norm.loc['Cukup Banyak']\n",
    "y5=df_norm.loc['Sangat Banyak']\n",
    "\n",
    "ax.bar(x, y1 ,w , label='Sangat Tidak Banyak', color='#1f77b4')\n",
    "ax.bar(x+w, y2 ,w , label='Tidak Banyak', color='#ff7f0e')\n",
    "ax.bar(x+2*w, y3 ,w , label='Sedang', color='#2ca02c')\n",
    "ax.bar(x+3*w, y4 ,w , label='Banyak', color='#d62728')\n",
    "ax.bar(x+4*w, y5 ,w , label='Sangat Banyak', color='#9467bd')\n",
    "# k = 0\n",
    "# df_norm = df_norm.set_index('Confirmed Category')\n",
    "# for i in df_norm.index:\n",
    "#   ax.bar(x + k*w, df_norm.loc[i], width=w, label=i)\n",
    "#   k = k + 1\n",
    "\n",
    "plt.xticks(x, df.columns)\n",
    "ax.set_title('Perbandingan Konsumsi Makanan Bedasarkan Tingkat Kasus COVID-19',size='large')\n",
    "plt.legend(loc='upper right', bbox_to_anchor=(1.13, 1.16))\n",
    "plt.show"
   ]
  },
  {
   "cell_type": "markdown",
   "metadata": {
    "colab_type": "text",
    "id": "FIul1KSeoMsh"
   },
   "source": [
    "Expected output:\n",
    "![Expected Output:](https://drive.google.com/uc?id=11x5OMAB8mbZurD0qntxcwOcWYCQSegy8)\n"
   ]
  },
  {
   "cell_type": "markdown",
   "metadata": {
    "colab_type": "text",
    "id": "KZJq0YxNp7bM"
   },
   "source": [
    "---"
   ]
  },
  {
   "cell_type": "markdown",
   "metadata": {
    "colab_type": "text",
    "id": "LoJ9IXHBp890"
   },
   "source": [
    "# Soal 6: Scatter plot\n"
   ]
  },
  {
   "cell_type": "markdown",
   "metadata": {
    "colab_type": "text",
    "id": "5sQPxjyIrrkM"
   },
   "source": [
    "Buatlah visualisasi scatter plot dari df_food antara Supply Sayuran ('Vegetal Products') dan persentase terkonfirmasi ('Confirmed') COVID-19 sesuai expected output dengan ketentuan berikut:\n",
    "\n",
    "\n",
    "* Gunakan kolom persentase kematian ('Death') sebagai ukuran pointnya kalikan suatu angka yang cukup besar agar terlihat.\n",
    "    \n",
    "* Gunakan kolom persentase produk hewani ('Animal Products') sebagai warna point, berikan colormap 'viridis'."
   ]
  },
  {
   "cell_type": "code",
   "execution_count": 122,
   "metadata": {
    "colab": {},
    "colab_type": "code",
    "id": "8-nxlX2zp8Lw"
   },
   "outputs": [
    {
     "data": {
      "image/png": "[encoded data removed]",
      "text/plain": [
       "<Figure size 1296x864 with 2 Axes>"
      ]
     },
     "metadata": {
      "needs_background": "light"
     },
     "output_type": "display_data"
    }
   ],
   "source": [
    "fig, ax = plt.subplots(figsize=(18, 12))\n",
    "\n",
    "# Code here\n",
    "\n",
    "map = ax.scatter(df_food['Vegetal Products'], df_food['Confirmed'], c=df_food['Animal Products'], s=df_food['Deaths']*100000, cmap='viridis', alpha=0.7)\n",
    "\n",
    "ax.set_title('Healthy Food and COVID-19')\n",
    "ax.set_xlabel('Supply Vegetal Products')\n",
    "ax.set_ylabel('COVID-19 Case Confirmed')\n",
    "fig.colorbar(map)\n",
    "\n",
    "plt.show()"
   ]
  },
  {
   "cell_type": "markdown",
   "metadata": {
    "colab_type": "text",
    "id": "aBr40jb0uXSg"
   },
   "source": [
    "Expected output:\n",
    "![Expected Output:](https://drive.google.com/uc?id=1wJh3tfkPbrkf3_F73RW0kABBt_NO8q53)"
   ]
  }
 ],
 "metadata": {
  "colab": {
   "authorship_tag": "ABX9TyOIzMCQPPRhLt9bnYEJxo5m",
   "collapsed_sections": [],
   "name": "Quiz Pekan - 3.ipynb",
   "provenance": []
  },
  "kernelspec": {
   "display_name": "Python 3",
   "language": "python",
   "name": "python3"
  },
  "language_info": {
   "codemirror_mode": {
    "name": "ipython",
    "version": 3
   },
   "file_extension": ".py",
   "mimetype": "text/x-python",
   "name": "python",
   "nbconvert_exporter": "python",
   "pygments_lexer": "ipython3",
   "version": "3.8.4"
  }
 },
 "nbformat": 4,
 "nbformat_minor": 1
}
