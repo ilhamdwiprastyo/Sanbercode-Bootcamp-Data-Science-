{
 "cells": [
  {
   "cell_type": "markdown",
   "metadata": {
    "colab_type": "text",
    "id": "PrQVcF-ldGWQ"
   },
   "source": [
    "<h1> Soal 1: Pemahaman Tentang Model Evaluasi</h1>\n",
    "\n",
    "Jawab pertanyaan di bawah ini dengan bahasa masing-masing?\n",
    "\n",
    "1. Apa perbedaan antara data latih, data validasi, dan data test?\n",
    "2. Bagaimana cara kita menilai performa suatu model?\n",
    "3. Apa itu Confusion Matrix? Jelaskan secara lengkap!\n",
    "4. Apa itu Classification Report dari sklearn?"
   ]
  },
  {
   "cell_type": "markdown",
   "metadata": {
    "colab_type": "text",
    "id": "sr6D5UIhgpwO"
   },
   "source": [
    "Jawab:\n",
    "1. data train adalah bagian dataset yang kita latih untuk membuat prediksi atau menjalankan fungsi dari sebuah algoritma ML. data test adalah bagian dataset yang kita tes untuk melihat klasifikasi dari data yang sebelumnya tidak ada dalam data train. data validasi adalah bagian dataset yang kita gunakan untuk mengukur tingkat kesalahan dari model kita menggunakan data test, atau dengan kata lain melihat performanya.\n",
    "2. dengan suatu fungsi untuk menghitung performa model, yaitu metrics. salah satu dari metrics adalah confusion matriks\n",
    "3. Error matriks, dimana terdiri dari 4 bagian yaitu data positif benar, data negatif salah, data positif salah, dan data negatif benar.\n",
    "4. suatu fungsi dari sklearn untuk memberitahu tingkat akurasi model kita dengan berbagai rumus diantaranya precision, recall, dan f-1 score dengan menggunakan variabel dari confusion matriks"
   ]
  },
  {
   "cell_type": "markdown",
   "metadata": {
    "colab_type": "text",
    "id": "uY-s7-KDgrkV"
   },
   "source": [
    "---"
   ]
  },
  {
   "cell_type": "markdown",
   "metadata": {
    "colab_type": "text",
    "id": "Fv2TVsgAdGWY"
   },
   "source": [
    "<h1>Soal 2: Aplikasi Model Evaluasi</h1>\n",
    "\n",
    "Kali ini kita akan menggunakan data untuk memprediksi kelangsungan hidup pasien yang telah mengalami operasi payudara. Dengan informasi yang dimiliki terkait pasien, kita akan membuat model untuk memprediksi apakah pasien akan bertahan hidup dalam waktu lebih dari 5 tahun atau tidak.\n",
    "\n",
    "Lebih Lengkapnya kalian bisa membaca informasi tentang dataset di link berikut: https://raw.githubusercontent.com/jbrownlee/Datasets/master/haberman.names\n",
    "\n",
    "Buat model Klasifikasi (Model/Algoritma Bebas) untuk memprediksi status pasien dengan ketentuan sebagai berikut:\n",
    "\n",
    "1. Bagi kedua data ini menjadi data training dan data test dengan test_size=0.25.\n",
    "3. Pelajar tentang metrics roc_auc_score kemudian buatlah model dan evaluasi dengan menggunakan teknik cross-validation dengan scoring 'roc_auc'. Baca https://scikit-learn.org/stable/modules/generated/sklearn.model_selection.cross_val_score.html untuk menggunakan metric roc_auc saat cross-validation.\n",
    "3. Berapa score rata2 dari model dengan teknik cross-validation tersebut?\n",
    "4. Prediksi data test dengan model yang telah kalian buat!\n",
    "5. Bagaimana hasil confusion matrix dari hasil prediksi tersebut?\n",
    "6. Bagaimana classification report dari hasil prediksi tersebut?\n",
    "5. Seberapa baik model anda dalam memprediksi seorang pasien mempunyai status positive?\n",
    "6. Seberapa baik model anda dalam memprediksi seorang pasien mempunyai status negatif?"
   ]
  },
  {
   "cell_type": "code",
   "execution_count": 1,
   "metadata": {
    "colab": {},
    "colab_type": "code",
    "id": "g4UqaWyPdGWj"
   },
   "outputs": [],
   "source": [
    "import pandas as pd\n",
    "\n",
    "url = 'https://raw.githubusercontent.com/jbrownlee/Datasets/master/haberman.csv'\n",
    "list_cols = ['Age', \"Patient's Years\", \"N_positive_ax\", \"survival_status\"]\n",
    "df = pd.read_csv(url, names=list_cols)"
   ]
  },
  {
   "cell_type": "code",
   "execution_count": 20,
   "metadata": {
    "colab": {},
    "colab_type": "code",
    "id": "YrbPNGtHdGXV"
   },
   "outputs": [
    {
     "data": {
      "text/html": [
       "<div>\n",
       "<style scoped>\n",
       "    .dataframe tbody tr th:only-of-type {\n",
       "        vertical-align: middle;\n",
       "    }\n",
       "\n",
       "    .dataframe tbody tr th {\n",
       "        vertical-align: top;\n",
       "    }\n",
       "\n",
       "    .dataframe thead th {\n",
       "        text-align: right;\n",
       "    }\n",
       "</style>\n",
       "<table border=\"1\" class=\"dataframe\">\n",
       "  <thead>\n",
       "    <tr style=\"text-align: right;\">\n",
       "      <th></th>\n",
       "      <th>Age</th>\n",
       "      <th>Patient's Years</th>\n",
       "      <th>N_positive_ax</th>\n",
       "      <th>survival_status</th>\n",
       "    </tr>\n",
       "  </thead>\n",
       "  <tbody>\n",
       "    <tr>\n",
       "      <th>0</th>\n",
       "      <td>30</td>\n",
       "      <td>64</td>\n",
       "      <td>1</td>\n",
       "      <td>1</td>\n",
       "    </tr>\n",
       "    <tr>\n",
       "      <th>1</th>\n",
       "      <td>30</td>\n",
       "      <td>62</td>\n",
       "      <td>3</td>\n",
       "      <td>1</td>\n",
       "    </tr>\n",
       "    <tr>\n",
       "      <th>2</th>\n",
       "      <td>30</td>\n",
       "      <td>65</td>\n",
       "      <td>0</td>\n",
       "      <td>1</td>\n",
       "    </tr>\n",
       "    <tr>\n",
       "      <th>3</th>\n",
       "      <td>31</td>\n",
       "      <td>59</td>\n",
       "      <td>2</td>\n",
       "      <td>1</td>\n",
       "    </tr>\n",
       "    <tr>\n",
       "      <th>4</th>\n",
       "      <td>31</td>\n",
       "      <td>65</td>\n",
       "      <td>4</td>\n",
       "      <td>1</td>\n",
       "    </tr>\n",
       "  </tbody>\n",
       "</table>\n",
       "</div>"
      ],
      "text/plain": [
       "   Age  Patient's Years  N_positive_ax  survival_status\n",
       "0   30               64              1                1\n",
       "1   30               62              3                1\n",
       "2   30               65              0                1\n",
       "3   31               59              2                1\n",
       "4   31               65              4                1"
      ]
     },
     "execution_count": 20,
     "metadata": {},
     "output_type": "execute_result"
    }
   ],
   "source": [
    "df.head()"
   ]
  },
  {
   "cell_type": "code",
   "execution_count": 66,
   "metadata": {
    "colab": {},
    "colab_type": "code",
    "id": "-dxYNPg7dGX4"
   },
   "outputs": [
    {
     "data": {
      "text/plain": [
       "1    225\n",
       "2     81\n",
       "Name: survival_status, dtype: int64"
      ]
     },
     "execution_count": 66,
     "metadata": {},
     "output_type": "execute_result"
    }
   ],
   "source": [
    "df['survival_status'].value_counts()"
   ]
  },
  {
   "cell_type": "code",
   "execution_count": 32,
   "metadata": {
    "colab": {},
    "colab_type": "code",
    "id": "8W2amvZgdGYX"
   },
   "outputs": [
    {
     "name": "stdout",
     "output_type": "stream",
     "text": [
      "score rata-rata dari model dengan teknik cross-validation adalah : 0.6645572573561703\n",
      "confusion matrix dari hasil prediksi :\n",
      " [[ 3 10]\n",
      " [12 52]]\n",
      "\n",
      "classification report dari hasil prediksi :\n",
      "               precision    recall  f1-score   support\n",
      "\n",
      "           1       0.84      0.81      0.83        64\n",
      "           2       0.20      0.23      0.21        13\n",
      "\n",
      "    accuracy                           0.71        77\n",
      "   macro avg       0.52      0.52      0.52        77\n",
      "weighted avg       0.73      0.71      0.72        77\n",
      "\n",
      "score prediksi terhadap pasien positif atau pasien yang diprediksi bertahan hidup kurangdari 5 tahun adalah sekitar 0.2 atau 20%, sehingga dapat disimpulkan model tersebut buruk dalam memprediksi pasien yang positif\n",
      "\n",
      "score prediksi terhadap pasien negatif atau pasien yang diprediksi bertahan hidup lebih dari 5 tahun adalah sekitar 0.8 atau 80%, sehingga dapat disimpulkan model tersebut baik dalam memprediksi pasien yang negatif\n"
     ]
    }
   ],
   "source": [
    "import matplotlib.pyplot as plt\n",
    "import numpy as np\n",
    "from sklearn.model_selection import train_test_split\n",
    "from sklearn.neighbors import KNeighborsClassifier\n",
    "from sklearn.model_selection import cross_val_score\n",
    "from sklearn.metrics import roc_auc_score\n",
    "from sklearn.metrics import confusion_matrix, classification_report\n",
    "# Code here\n",
    "X=df.drop('survival_status', axis=1)\n",
    "y=df['survival_status']\n",
    "X_train, X_test, y_train, y_test = train_test_split(X, y, test_size=0.25, random_state=21)\n",
    "knn = KNeighborsClassifier(n_neighbors=5, weights='distance')\n",
    "knn.fit(X_train,y_train)\n",
    "score=cross_val_score(knn, X, y, cv=10, scoring='roc_auc')\n",
    "print('score rata-rata dari model dengan teknik cross-validation adalah :',score.mean())\n",
    "y_predict = knn.predict(X_test)\n",
    "print('confusion matrix dari hasil prediksi :\\n',confusion_matrix(y_test, y_predict, labels=[2,1]))\n",
    "print('\\nclassification report dari hasil prediksi :\\n',classification_report(y_test, y_predict))\n",
    "print('score prediksi terhadap pasien positif atau pasien yang diprediksi bertahan hidup kurangdari 5 tahun adalah sekitar 0.2 atau 20%, sehingga dapat disimpulkan model tersebut buruk dalam memprediksi pasien yang positif\\n')\n",
    "print('score prediksi terhadap pasien negatif atau pasien yang diprediksi bertahan hidup lebih dari 5 tahun adalah sekitar 0.8 atau 80%, sehingga dapat disimpulkan model tersebut baik dalam memprediksi pasien yang negatif')"
   ]
  },
  {
   "cell_type": "markdown",
   "metadata": {
    "colab_type": "text",
    "id": "I6v_dgoN-7wL"
   },
   "source": [
    "---"
   ]
  },
  {
   "cell_type": "markdown",
   "metadata": {
    "colab_type": "text",
    "id": "teekoyIw--g2"
   },
   "source": [
    "<h1> Soal 3: Pemahaman Tentang Model Selection</h1>\n",
    "\n",
    "Jelaskan dengan bahasa sendiri!\n",
    "\n",
    "1. Apa itu Bias dan Variance?\n",
    "2. Apa itu Overfitting dan Underfitting?\n",
    "3. Apa yang bisa kita lakukan untuk mengatur kompleksitas dari model?\n",
    "4. Bagaimana model yang baik?\n",
    "5. Kapan kita menggunakan GridSearchcv dan kapan menggunakan RandomizedSearchCV?"
   ]
  },
  {
   "cell_type": "markdown",
   "metadata": {
    "colab_type": "text",
    "id": "4a1l4RNf_FcU"
   },
   "source": [
    "Jawab:\n",
    "1. Bias adalah error yang disebabkan karena model terlalu simple dan mengakibatkan error tinggi pada data training dan data test, sedangkan variance adalah error yang disebabkan karena model terlalu kompleks dan mengakibatkan error tinggi pada data test dan error rendah pada data train.\n",
    "2. Overfitting adalah model yang terlalu banyak belajar atau fit terhadap data train. sedangkan underfitting adalah model yang terlalu sedikit belajar terhadap data trainnya.\n",
    "3. dengan hyperparameter tuning, sehingga mendapat hyperparameter terbaik yang mengakibatkan performa model memiliki akurasi yang tinggi.\n",
    "4. model yang memiliki score tinggi pada data train dan data testnya, sehingga model tidak overfitting maupun underfitting.\n",
    "5. GridSearchcv saat tidak menggunakan n_iterasi pada saat hypermater tuning, sehingga semua kombinasi dari hyperparameter dilakukan. sedangkan RandomizedSearchCV adalah pada saat menggunakan n_iterasi pada saat hyperparameter tuning, sehingga sejumlah n-iterasi yang diinginkan saja yang dijalankan, tidak semua kombinasi dari hyperparameter yang dijalankan."
   ]
  },
  {
   "cell_type": "markdown",
   "metadata": {
    "colab_type": "text",
    "id": "Svj_cgxF_IZv"
   },
   "source": [
    "---"
   ]
  },
  {
   "cell_type": "markdown",
   "metadata": {
    "colab_type": "text",
    "id": "Hkh-PeRL_LZp"
   },
   "source": [
    "<h1> Soal 4: Aplikasi Model Selection</h1>\n",
    "\n",
    "1. Bagi kedua data berikut ini menjadi data training dan data test dengan test_size=0.25.\n",
    "2. Gunakan algoritma KNN sebagai model classifier.\n",
    "3. Gunakan fungsi GridSearchCV untuk hyperparameter tuning dan model selection.\n",
    "4. jumlah fold bebas!, gunakan scoring 'roc_auc'\n",
    "5. Definisikan kombinasi hyperparameter untuk model selection dengan GridSearchCV. kombinasi Hyperparameter bebas, baca lagi dokumentasi KNN di link berikut https://scikit-learn.org/stable/modules/generated/sklearn.neighbors.KNeighborsClassifier.html untuk memahami lagi jenis2 hyperparameter di algorithma KNN.\n",
    "6. Latih model terhadap data training.\n",
    "7. Apa hyperparameter terbaik untuk kombinasi hyperparameter kalian?\n",
    "8. Berapa score validasi terbaik dari model tersebut?\n",
    "9. Prediksi probabilitasi output dari model yang telah di buat terhadap data test. note : gunakan method .predict_proba() untuk menghasilkan output probabilitas\n",
    "10. Perhatikan bahwa hasil prediksi ada 2, dimana masing2 adalah nilai probabilitas untuk setiap class label. Ambil nilai probabilitas pasien phositive meninggal dalam waktu kurang dari 5 tahun. note : gunakan bantuan attirubte .classes_ untuk mengetahui urutan label dari hasil prediksi probabilitas.\n",
    "11. Berapa nilai score roc_auc untuk data test?\n",
    "12. Apakah model anda termasuk baik, overtting, atau underfitting?\n",
    "13. Ulangi tahap di atas namun kali ini menggunakan algoritma DecisionTreeClassifier dan kalian bisa menggunakan RandomizedSearchCV apabila process training lama. pelajari algoritma DecisionTreeClassifier di linkberikut: https://scikit-learn.org/stable/modules/generated/sklearn.tree.DecisionTreeClassifier.html?highlight=decisiontreeclassifier#sklearn.tree.DecisionTreeClassifier\n",
    "14. Bandingkan scorenya dengan Algoritma KNN, mana yang lebih baik?\n",
    "\n",
    "Note : Data Science adalah experiment, sangat di dimungkinkan memerlukan beberapa kali percobaan untuk mendapatkan hasil yang terbaik! Happy Coding :)"
   ]
  },
  {
   "cell_type": "code",
   "execution_count": 1,
   "metadata": {
    "colab": {},
    "colab_type": "code",
    "id": "l_zK8Mqb-9Z6"
   },
   "outputs": [],
   "source": [
    "import pandas as pd\n",
    "\n",
    "url = 'https://raw.githubusercontent.com/jbrownlee/Datasets/master/haberman.csv'\n",
    "list_cols = ['Age', \"Patient's Years\", \"N_positive_ax\", \"survival_status\"]\n",
    "df = pd.read_csv(url, names=list_cols)"
   ]
  },
  {
   "cell_type": "code",
   "execution_count": 2,
   "metadata": {
    "colab": {},
    "colab_type": "code",
    "id": "qb-AD43R_V_d"
   },
   "outputs": [
    {
     "data": {
      "text/html": [
       "<div>\n",
       "<style scoped>\n",
       "    .dataframe tbody tr th:only-of-type {\n",
       "        vertical-align: middle;\n",
       "    }\n",
       "\n",
       "    .dataframe tbody tr th {\n",
       "        vertical-align: top;\n",
       "    }\n",
       "\n",
       "    .dataframe thead th {\n",
       "        text-align: right;\n",
       "    }\n",
       "</style>\n",
       "<table border=\"1\" class=\"dataframe\">\n",
       "  <thead>\n",
       "    <tr style=\"text-align: right;\">\n",
       "      <th></th>\n",
       "      <th>Age</th>\n",
       "      <th>Patient's Years</th>\n",
       "      <th>N_positive_ax</th>\n",
       "      <th>survival_status</th>\n",
       "    </tr>\n",
       "  </thead>\n",
       "  <tbody>\n",
       "    <tr>\n",
       "      <th>0</th>\n",
       "      <td>30</td>\n",
       "      <td>64</td>\n",
       "      <td>1</td>\n",
       "      <td>1</td>\n",
       "    </tr>\n",
       "    <tr>\n",
       "      <th>1</th>\n",
       "      <td>30</td>\n",
       "      <td>62</td>\n",
       "      <td>3</td>\n",
       "      <td>1</td>\n",
       "    </tr>\n",
       "    <tr>\n",
       "      <th>2</th>\n",
       "      <td>30</td>\n",
       "      <td>65</td>\n",
       "      <td>0</td>\n",
       "      <td>1</td>\n",
       "    </tr>\n",
       "    <tr>\n",
       "      <th>3</th>\n",
       "      <td>31</td>\n",
       "      <td>59</td>\n",
       "      <td>2</td>\n",
       "      <td>1</td>\n",
       "    </tr>\n",
       "    <tr>\n",
       "      <th>4</th>\n",
       "      <td>31</td>\n",
       "      <td>65</td>\n",
       "      <td>4</td>\n",
       "      <td>1</td>\n",
       "    </tr>\n",
       "  </tbody>\n",
       "</table>\n",
       "</div>"
      ],
      "text/plain": [
       "   Age  Patient's Years  N_positive_ax  survival_status\n",
       "0   30               64              1                1\n",
       "1   30               62              3                1\n",
       "2   30               65              0                1\n",
       "3   31               59              2                1\n",
       "4   31               65              4                1"
      ]
     },
     "execution_count": 2,
     "metadata": {},
     "output_type": "execute_result"
    }
   ],
   "source": [
    "df.head()"
   ]
  },
  {
   "cell_type": "code",
   "execution_count": 3,
   "metadata": {
    "colab": {},
    "colab_type": "code",
    "id": "znc1dEGO_XU2"
   },
   "outputs": [
    {
     "name": "stdout",
     "output_type": "stream",
     "text": [
      "hyperparameter terbaik model KNN: {'n_neighbors': 21, 'weights': 'uniform'}\n",
      "score validasi terbaik model KNN: 0.7402899184149183\n",
      "nilai probabilitas pasien phositive meninggal dalam waktu kurang dari 5 tahun :\n"
     ]
    },
    {
     "data": {
      "text/plain": [
       "array([0.14285714, 0.19047619, 0.28571429, 0.0952381 , 0.04761905,\n",
       "       0.57142857, 0.23809524, 0.47619048, 0.28571429, 0.23809524,\n",
       "       0.14285714, 0.0952381 , 0.19047619, 0.61904762, 0.33333333,\n",
       "       0.28571429, 0.23809524, 0.14285714, 0.23809524, 0.23809524,\n",
       "       0.19047619, 0.33333333, 0.23809524, 0.19047619, 0.14285714,\n",
       "       0.19047619, 0.14285714, 0.0952381 , 0.0952381 , 0.23809524,\n",
       "       0.28571429, 0.0952381 , 0.19047619, 0.28571429, 0.57142857,\n",
       "       0.23809524, 0.61904762, 0.38095238, 0.23809524, 0.14285714,\n",
       "       0.23809524, 0.61904762, 0.19047619, 0.14285714, 0.33333333,\n",
       "       0.14285714, 0.14285714, 0.57142857, 0.28571429, 0.14285714,\n",
       "       0.19047619, 0.19047619, 0.04761905, 0.66666667, 0.38095238,\n",
       "       0.04761905, 0.23809524, 0.19047619, 0.0952381 , 0.52380952,\n",
       "       0.19047619, 0.14285714, 0.33333333, 0.28571429, 0.28571429,\n",
       "       0.14285714, 0.61904762, 0.0952381 , 0.28571429, 0.23809524,\n",
       "       0.0952381 , 0.47619048, 0.33333333, 0.23809524, 0.0952381 ,\n",
       "       0.        , 0.38095238])"
      ]
     },
     "metadata": {},
     "output_type": "display_data"
    },
    {
     "name": "stdout",
     "output_type": "stream",
     "text": [
      "score data test : 0.6147836538461539\n",
      "score data training : 0.6066861527219584\n",
      "karena score validasi tidak lebih rendah dari score training, dan kedua score tersebut tidak terlalu buruk,  maka model knn termasuk baik\n",
      "\n",
      "****************************************************************************************************\n",
      "hyperparameter terbaik model DT : {'splitter': 'best', 'max_depth': 2, 'criterion': 'entropy'}\n",
      "score validasi terbaik model DT : 0.6708192848817849\n",
      "nilai probabilitas pasien phositive meninggal dalam waktu kurang dari 5 tahun :\n"
     ]
    },
    {
     "data": {
      "text/plain": [
       "array([0.1835443 , 0.1835443 , 0.1835443 , 0.1835443 , 0.1835443 ,\n",
       "       0.62962963, 0.1835443 , 0.2       , 0.1835443 , 0.1835443 ,\n",
       "       0.1835443 , 0.1835443 , 0.1835443 , 0.62962963, 0.1835443 ,\n",
       "       0.1835443 , 0.1835443 , 0.2       , 0.1835443 , 0.1835443 ,\n",
       "       0.1835443 , 0.62962963, 0.1835443 , 0.1835443 , 0.1835443 ,\n",
       "       0.1835443 , 0.1835443 , 0.1835443 , 0.1835443 , 0.62962963,\n",
       "       0.1835443 , 0.1835443 , 0.1835443 , 0.1835443 , 0.62962963,\n",
       "       0.1835443 , 0.62962963, 0.62962963, 0.1835443 , 0.1835443 ,\n",
       "       0.62962963, 0.62962963, 0.1835443 , 0.1835443 , 0.62962963,\n",
       "       0.1835443 , 0.1835443 , 0.62962963, 0.1835443 , 0.1835443 ,\n",
       "       0.1835443 , 0.1835443 , 0.1835443 , 0.62962963, 0.62962963,\n",
       "       0.1835443 , 0.1835443 , 0.1835443 , 0.1835443 , 0.2       ,\n",
       "       0.1835443 , 0.1835443 , 0.1835443 , 0.1835443 , 0.1835443 ,\n",
       "       0.1835443 , 0.62962963, 0.1835443 , 0.1835443 , 0.1835443 ,\n",
       "       0.1835443 , 0.62962963, 0.62962963, 0.1835443 , 0.1835443 ,\n",
       "       0.1835443 , 0.62962963])"
      ]
     },
     "metadata": {},
     "output_type": "display_data"
    },
    {
     "name": "stdout",
     "output_type": "stream",
     "text": [
      "score data test : 0.5985576923076923\n",
      "score data training : 0.7025940811107051\n",
      "karena score training lebih besar dari score validasi, maka dapat disimpulkan bahwa model DT temasuk overfitting\n",
      "\n",
      "Kesimpulan dari kedua model tersebut adalah, model KNN lebih baik dari model DT, dengan hyperparamter yang sudah ditentukan dan dataframe yang telah diberikan.\n"
     ]
    }
   ],
   "source": [
    "import matplotlib.pyplot as plt\n",
    "import numpy as np\n",
    "from sklearn.model_selection import train_test_split\n",
    "from sklearn.neighbors import KNeighborsClassifier\n",
    "from sklearn.tree import DecisionTreeClassifier\n",
    "from sklearn.model_selection import GridSearchCV, RandomizedSearchCV\n",
    "from sklearn.metrics import roc_auc_score\n",
    "\n",
    "# Code here\n",
    "X=df.drop('survival_status', axis=1)\n",
    "y=df['survival_status']\n",
    "X_train, X_test, y_train, y_test = train_test_split(X, y, test_size=0.25, random_state=21)\n",
    "model_1 = KNeighborsClassifier()\n",
    "param_grid={'n_neighbors':np.arange(10,60), 'weights':['uniform','distance']}\n",
    "gcsv = GridSearchCV(model_1, param_grid=param_grid, scoring='roc_auc',cv=5)\n",
    "gcsv.fit(X_train,y_train)\n",
    "y_predict_train=gcsv.predict(X_train)\n",
    "y_predict_test=gcsv.predict(X_test)\n",
    "print('hyperparameter terbaik model KNN:',gcsv.best_params_)\n",
    "print('score validasi terbaik model KNN:',gcsv.best_score_)\n",
    "print('nilai probabilitas pasien phositive meninggal dalam waktu kurang dari 5 tahun :')\n",
    "display(gcsv.predict_proba(X_test)[:,1])\n",
    "valid_score=roc_auc_score(y_test,y_predict_test)\n",
    "train_score=roc_auc_score(y_train,y_predict_train)\n",
    "print('score data test :',valid_score)\n",
    "print('score data training :',train_score)\n",
    "print('karena score validasi tidak lebih rendah dari score training, dan kedua score tersebut tidak terlalu buruk,  maka model knn termasuk baik\\n')\n",
    "\n",
    "print(100*'*')\n",
    "\n",
    "model_2 = DecisionTreeClassifier()\n",
    "param_grid_2={'criterion':['gini','entropy'],'splitter':['best','random'],'max_depth':np.arange(2,12)}\n",
    "rscv=RandomizedSearchCV(model_2, param_grid_2, n_iter=20, scoring='roc_auc', cv=5)\n",
    "rscv.fit(X_train,y_train)\n",
    "y_predict_train_2=rscv.predict(X_train)\n",
    "y_predict_test_2=rscv.predict(X_test)\n",
    "print('hyperparameter terbaik model DT :',rscv.best_params_)\n",
    "print('score validasi terbaik model DT :',rscv.best_score_)\n",
    "print('nilai probabilitas pasien phositive meninggal dalam waktu kurang dari 5 tahun :')\n",
    "display(rscv.predict_proba(X_test)[:,1])\n",
    "valid_score_2=roc_auc_score(y_test,y_predict_test_2)\n",
    "train_score_2=roc_auc_score(y_train,y_predict_train_2)\n",
    "\n",
    "print('score data test :',valid_score_2)\n",
    "print('score data training :',train_score_2)\n",
    "print('karena score training lebih besar dari score validasi, maka dapat disimpulkan bahwa model DT temasuk overfitting\\n')\n",
    "\n",
    "print('Kesimpulan dari kedua model tersebut adalah, model KNN lebih baik dari model DT, dengan hyperparamter yang sudah ditentukan dan dataframe yang telah diberikan.')"
   ]
  },
  {
   "cell_type": "code",
   "execution_count": null,
   "metadata": {},
   "outputs": [],
   "source": []
  }
 ],
 "metadata": {
  "colab": {
   "collapsed_sections": [],
   "name": "Tugas Hari 3 Pekan 4.ipynb",
   "provenance": []
  },
  "kernelspec": {
   "display_name": "Python 3",
   "language": "python",
   "name": "python3"
  },
  "language_info": {
   "codemirror_mode": {
    "name": "ipython",
    "version": 3
   },
   "file_extension": ".py",
   "mimetype": "text/x-python",
   "name": "python",
   "nbconvert_exporter": "python",
   "pygments_lexer": "ipython3",
   "version": "3.9.1"
  }
 },
 "nbformat": 4,
 "nbformat_minor": 1
}
